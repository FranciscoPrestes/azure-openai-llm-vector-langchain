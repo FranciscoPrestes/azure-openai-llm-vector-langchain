{
 "cells": [
  {
   "attachments": {},
   "cell_type": "markdown",
   "metadata": {},
   "source": [
    "#### Watch the Getting Started Quick Start [Video](https://aka.ms/SK-Getting-Started-Notebook)\n",
    "\n",
    "> [!IMPORTANT]\n",
    "> You will need an [.Net 7 SDK](https://dotnet.microsoft.com/en-us/download) and [Polyglot](https://marketplace.visualstudio.com/items?itemName=ms-dotnettools.dotnet-interactive-vscode) to get started with this notebook using .Net Interactive\n",
    "\n",
    "**Step 1**: Import Semantic Kernel SDK from NuGet"
   ]
  },
  {
   "cell_type": "code",
   "execution_count": 103,
   "metadata": {
    "dotnet_interactive": {
     "language": "csharp"
    },
    "polyglot_notebook": {
     "kernelName": "csharp"
    }
   },
   "outputs": [],
   "source": [
    "// Import Semantic Kernel\n",
    "//#r \"nuget: Microsoft.SemanticKernel, 0.14.547.1-preview\""
   ]
  },
  {
   "cell_type": "code",
   "execution_count": 104,
   "metadata": {
    "dotnet_interactive": {
     "language": "csharp"
    },
    "polyglot_notebook": {
     "kernelName": "csharp"
    }
   },
   "outputs": [
    {
     "data": {
      "text/html": [
       "<div><div></div><div></div><div><strong>Installed Packages</strong><ul><li><span>Microsoft.SemanticKernel, 0.14.547.1-preview</span></li></ul></div></div>"
      ]
     },
     "metadata": {},
     "output_type": "display_data"
    }
   ],
   "source": [
    "// Import Semantic Kernel\n",
    "#r \"nuget: Microsoft.SemanticKernel, *-*\""
   ]
  },
  {
   "cell_type": "code",
   "execution_count": 105,
   "metadata": {
    "dotnet_interactive": {
     "language": "csharp"
    },
    "polyglot_notebook": {
     "kernelName": "csharp"
    }
   },
   "outputs": [
    {
     "data": {
      "text/html": [
       "<div><div></div><div></div><div><strong>Installed Packages</strong><ul><li><span>Microsoft.SemanticKernel.Skills.Web, 0.14.547.1-preview</span></li></ul></div></div>"
      ]
     },
     "metadata": {},
     "output_type": "display_data"
    }
   ],
   "source": [
    "#r \"nuget: Microsoft.SemanticKernel.Skills.Web, *-*\""
   ]
  },
  {
   "attachments": {},
   "cell_type": "markdown",
   "metadata": {},
   "source": [
    "**Step 2**: Add your [Open AI Key](https://openai.com/api/) or [Azure Open AI Service key](https://learn.microsoft.com/azure/cognitive-services/openai/quickstart?pivots=programming-language-studio) key to run a function below and save your key in the configuration files for later use."
   ]
  },
  {
   "cell_type": "code",
   "execution_count": 106,
   "metadata": {
    "dotnet_interactive": {
     "language": "csharp"
    },
    "polyglot_notebook": {
     "kernelName": "csharp"
    }
   },
   "outputs": [
    {
     "name": "stdout",
     "output_type": "stream",
     "text": [
      "Settings: OK: Azure OpenAI endpoint configured [config/settings.json]\n",
      "Settings: OK: deployment name configured [config/settings.json]\n",
      "Settings: OK: API key configured [config/settings.json]\n"
     ]
    }
   ],
   "source": [
    "// NOTE: When you run this section, you'll be prompted to enter your key\n",
    "\n",
    "#!import config/Settings.cs\n",
    "\n",
    "// Setup Open AI Configuration\n",
    "bool useAzureOpenAI = true;\n",
    "await Settings.AskAzureEndpoint(useAzureOpenAI);\n",
    "await Settings.AskModel(useAzureOpenAI);\n",
    "await Settings.AskApiKey(useAzureOpenAI);\n",
    "\n",
    "// Uncomment this if you are using the Open AI Service and have an Org ID\n",
    "// await Settings.AskOrg(useAzureOpenAI);"
   ]
  },
  {
   "attachments": {},
   "cell_type": "markdown",
   "metadata": {},
   "source": [
    "**Step 3**: Instantiate the Kernel"
   ]
  },
  {
   "cell_type": "code",
   "execution_count": 107,
   "metadata": {
    "dotnet_interactive": {
     "language": "csharp"
    },
    "polyglot_notebook": {
     "kernelName": "csharp"
    }
   },
   "outputs": [],
   "source": [
    "using Microsoft.SemanticKernel;\n",
    "using Microsoft.SemanticKernel.Skills.Web;\n",
    "\n",
    "// Set Simple kernel instance\n",
    "IKernel kernel = KernelBuilder.Create();"
   ]
  },
  {
   "cell_type": "code",
   "execution_count": 108,
   "metadata": {
    "dotnet_interactive": {
     "language": "csharp"
    },
    "polyglot_notebook": {
     "kernelName": "csharp"
    }
   },
   "outputs": [],
   "source": [
    "// Configure AI backend used by the kernel\n",
    "var (useAzureOpenAI, model, azureEndpoint, apiKey, orgId) = Settings.LoadFromFile();\n",
    "if (useAzureOpenAI)\n",
    "    kernel.Config.AddAzureTextCompletionService(model, azureEndpoint, apiKey);\n",
    "else\n",
    "    kernel.Config.AddOpenAITextCompletionService(model, apiKey, orgId);"
   ]
  },
  {
   "cell_type": "code",
   "execution_count": null,
   "metadata": {
    "dotnet_interactive": {
     "language": "csharp"
    },
    "polyglot_notebook": {
     "kernelName": "csharp"
    }
   },
   "outputs": [],
   "source": [
    "// Check the value\n",
    "model"
   ]
  },
  {
   "attachments": {},
   "cell_type": "markdown",
   "metadata": {},
   "source": [
    "**Step 4**: Load and Run a Skill"
   ]
  },
  {
   "cell_type": "code",
   "execution_count": 111,
   "metadata": {
    "dotnet_interactive": {
     "language": "csharp"
    },
    "polyglot_notebook": {
     "kernelName": "csharp"
    }
   },
   "outputs": [],
   "source": [
    "var bingApiKey = \"<your-key>\";\n",
    "var bingConnector = new BingConnector(bingApiKey);\n",
    "kernel.ImportSkill(new WebSearchEngineSkill(bingConnector), \"bing\");"
   ]
  },
  {
   "cell_type": "code",
   "execution_count": 112,
   "metadata": {
    "dotnet_interactive": {
     "language": "csharp"
    },
    "polyglot_notebook": {
     "kernelName": "csharp"
    }
   },
   "outputs": [],
   "source": [
    "var question = \"What's the largest building in the world?\";\n",
    "var bingResult = await kernel.Func(\"bing\", \"search\").InvokeAsync(question);"
   ]
  },
  {
   "attachments": {},
   "cell_type": "markdown",
   "metadata": {},
   "source": [
    "メモ\n",
    "```\n",
    "[COMMANDS AVAILABLE]\n",
    "- bing.search\n",
    "```"
   ]
  },
  {
   "cell_type": "code",
   "execution_count": 113,
   "metadata": {
    "dotnet_interactive": {
     "language": "csharp"
    },
    "polyglot_notebook": {
     "kernelName": "csharp"
    }
   },
   "outputs": [
    {
     "data": {
      "text/plain": [
       "The 828-metre (2,717 ft) tall Burj Khalifa in Dubai has been the tallest building since 2010. [1] The Burj Khalifa has been classified as megatall. [2] Tall buildings, such as skyscrapers, are intended here as enclosed structures with continuously occupiable floors and a height of at least 340 metres (1,120 ft)."
      ]
     },
     "metadata": {},
     "output_type": "display_data"
    }
   ],
   "source": [
    "//Check the value\n",
    "bingResult.Result"
   ]
  },
  {
   "attachments": {},
   "cell_type": "markdown",
   "metadata": {},
   "source": [
    "**Step 5**: Create and Run a Skill"
   ]
  },
  {
   "cell_type": "code",
   "execution_count": 114,
   "metadata": {
    "dotnet_interactive": {
     "language": "csharp"
    },
    "polyglot_notebook": {
     "kernelName": "csharp"
    }
   },
   "outputs": [],
   "source": [
    "using Microsoft.SemanticKernel.TemplateEngine;"
   ]
  },
  {
   "cell_type": "code",
   "execution_count": 115,
   "metadata": {
    "dotnet_interactive": {
     "language": "csharp"
    },
    "polyglot_notebook": {
     "kernelName": "csharp"
    }
   },
   "outputs": [],
   "source": [
    "const string SemanticFunction = @\"Answer questions only when you know the facts or the information is provided.\n",
    "When you don't have sufficient information you reply with a list of commands to find the information needed.\n",
    "When answering multiple questions, use a bullet point list.\n",
    "Note: make sure single and double quotes are escaped using a backslash char.\n",
    "\n",
    "[COMMANDS AVAILABLE]\n",
    "- bing.search\n",
    "\n",
    "[INFORMATION PROVIDED]\n",
    "{{ $externalInformation }}\n",
    "\n",
    "[EXAMPLE 1]\n",
    "Question: what's the biggest lake in Italy?\n",
    "Answer: Lake Garda, also known as Lago di Garda.\n",
    "\n",
    "[EXAMPLE 2]\n",
    "Question: what's the biggest lake in Italy? What's the smallest positive number?\n",
    "Answer:\n",
    "* Lake Garda, also known as Lago di Garda.\n",
    "* The smallest positive number is 1.\n",
    "\n",
    "[EXAMPLE 3]\n",
    "Question: what's Ferrari stock price ? Who is the current number one female tennis player in the world?\n",
    "Answer:\n",
    "{{ '{{' }} bing.search \"\"what\\\\'s Ferrari stock price?\"\" {{ '}}' }}.\n",
    "{{ '{{' }} bing.search \"\"Who is the current number one female tennis player in the world?\"\" {{ '}}' }}.\n",
    "\n",
    "[END OF EXAMPLES]\n",
    "\n",
    "[TASK]\n",
    "Question: {{ $input }}.\n",
    "Answer: \";"
   ]
  },
  {
   "cell_type": "code",
   "execution_count": 116,
   "metadata": {
    "dotnet_interactive": {
     "language": "csharp"
    },
    "polyglot_notebook": {
     "kernelName": "csharp"
    }
   },
   "outputs": [
    {
     "data": {
      "text/html": [
       "<details open=\"open\" class=\"dni-treeview\"><summary><span class=\"dni-code-hint\"><code>Microsoft.SemanticKernel.Kernel</code></span></summary><div><table><thead><tr></tr></thead><tbody><tr><td>Config</td><td><details class=\"dni-treeview\"><summary><span class=\"dni-code-hint\"><code>Microsoft.SemanticKernel.KernelConfig</code></span></summary><div><table><thead><tr></tr></thead><tbody><tr><td>HttpHandlerFactory</td><td><details class=\"dni-treeview\"><summary><span class=\"dni-code-hint\"><code>Microsoft.SemanticKernel.Reliability.DefaultHttpRetryHandlerFactory</code></span></summary><div><table><thead><tr></tr></thead><tbody></tbody></table></div></details></td></tr><tr><td>DefaultHttpRetryConfig</td><td><details class=\"dni-treeview\"><summary><span class=\"dni-code-hint\"><code>Microsoft.SemanticKernel.Reliability.HttpRetryConfig</code></span></summary><div><table><thead><tr></tr></thead><tbody><tr><td>MaxRetryCount</td><td><div class=\"dni-plaintext\"><pre>1</pre></div></td></tr><tr><td>MinRetryDelay</td><td><span>00:00:02</span></td></tr><tr><td>MaxRetryDelay</td><td><span>00:01:00</span></td></tr><tr><td>MaxTotalRetryTime</td><td><span>00:02:00</span></td></tr><tr><td>UseExponentialBackoff</td><td><div class=\"dni-plaintext\"><pre>False</pre></div></td></tr><tr><td>RetryableStatusCodes</td><td><table><thead><tr><th><i>index</i></th><th>value</th></tr></thead><tbody><tr><td>0</td><td><span>RequestTimeout</span></td></tr><tr><td>1</td><td><span>ServiceUnavailable</span></td></tr><tr><td>2</td><td><span>GatewayTimeout</span></td></tr><tr><td>3</td><td><span>TooManyRequests</span></td></tr><tr><td>4</td><td><span>BadGateway</span></td></tr></tbody></table></td></tr><tr><td>RetryableExceptionTypes</td><td><table><thead><tr><th><i>index</i></th><th>value</th></tr></thead><tbody><tr><td>0</td><td><span><a href=\"https://docs.microsoft.com/dotnet/api/system.net.http.httprequestexception?view=net-7.0\">System.Net.Http.HttpRequestException</a></span></td></tr></tbody></table></td></tr></tbody></table></div></details></td></tr><tr><td>TextCompletionServices</td><td><table><thead><tr><th><i>key</i></th><th>value</th></tr></thead><tbody><tr><td>__SK_DEFAULT</td><td><details class=\"dni-treeview\"><summary><span class=\"dni-code-hint\"><code>System.Func`2[Microsoft.SemanticKernel.IKernel,Microsoft.SemanticKernel.AI.TextCompletion.ITextCompletion]</code></span></summary><div><table><thead><tr></tr></thead><tbody><tr><td>Target</td><td><details class=\"dni-treeview\"><summary><span class=\"dni-code-hint\"><code>Microsoft.SemanticKernel.KernelConfigOpenAIExtensions+<>c__DisplayClass0_0</code></span></summary><div><table><thead><tr></tr></thead><tbody><tr><td>deploymentName</td><td>chatty</td></tr><tr><td>endpoint</td><td>https://oaillama.openai.azure.com/</td></tr><tr><td>apiKey</td><td>ac07f15abbfa4da3ad81f77da336b22f</td></tr><tr><td>httpClient</td><td><div class=\"dni-plaintext\"><pre>&lt;null&gt;</pre></div></td></tr><tr><td>logger</td><td><div class=\"dni-plaintext\"><pre>&lt;null&gt;</pre></div></td></tr></tbody></table></div></details></td></tr><tr><td>Method</td><td><details class=\"dni-treeview\"><summary><span class=\"dni-code-hint\"><code>Microsoft.SemanticKernel.AI.TextCompletion.ITextCompletion <AddAzureTextCompletionService>g__Factory|0(Microsoft.SemanticKernel.IKernel)</code></span></summary><div><table><thead><tr></tr></thead><tbody><tr><td>Name</td><td>&lt;AddAzureTextCompletionService&gt;g__Factory|0</td></tr><tr><td>DeclaringType</td><td><span><a href=\"https://docs.microsoft.com/dotnet/api/microsoft.semantickernel.kernelconfigopenaiextensions.&lt;>c__displayclass0_0?view=net-7.0\">Microsoft.SemanticKernel.KernelConfigOpenAIExtensions+&lt;&gt;c__DisplayClass0_0</a></span></td></tr><tr><td>ReflectedType</td><td><span><a href=\"https://docs.microsoft.com/dotnet/api/microsoft.semantickernel.kernelconfigopenaiextensions.&lt;>c__displayclass0_0?view=net-7.0\">Microsoft.SemanticKernel.KernelConfigOpenAIExtensions+&lt;&gt;c__DisplayClass0_0</a></span></td></tr><tr><td>MemberType</td><td><span>Method</span></td></tr><tr><td>MetadataToken</td><td><div class=\"dni-plaintext\"><pre>100663460</pre></div></td></tr><tr><td>Module</td><td><details class=\"dni-treeview\"><summary><span class=\"dni-code-hint\"><code>Microsoft.SemanticKernel.Connectors.AI.OpenAI.dll</code></span></summary><div><table><thead><tr></tr></thead><tbody><tr><td>MDStreamVersion</td><td>131072</td></tr><tr><td>FullyQualifiedName</td><td>C:\\Users\\taehokim\\.nuget\\packages\\microsoft.semantickernel.connectors.ai.openai\\0.14.547.1-preview\\lib\\netstandard2.0\\Microsoft.SemanticKernel.Connectors.AI.OpenAI.dll</td></tr><tr><td>ModuleVersionId</td><td>470c1783-16b8-4b57-8594-0eb4b3a48c07</td></tr><tr><td>MetadataToken</td><td>1</td></tr><tr><td>ScopeName</td><td>Microsoft.SemanticKernel.Connectors.AI.OpenAI.dll</td></tr><tr><td>Name</td><td>Microsoft.SemanticKernel.Connectors.AI.OpenAI.dll</td></tr><tr><td>Assembly</td><td>Microsoft.SemanticKernel.Connectors.AI.OpenAI, Version=0.14.547.1, Culture=neutral, PublicKeyToken=null</td></tr><tr><td>ModuleHandle</td><td>System.ModuleHandle</td></tr><tr><td>CustomAttributes</td><td>[ [System.Security.UnverifiableCodeAttribute()] ]</td></tr></tbody></table></div></details></td></tr><tr><td>IsSecurityCritical</td><td><div class=\"dni-plaintext\"><pre>True</pre></div></td></tr><tr><td>IsSecuritySafeCritical</td><td><div class=\"dni-plaintext\"><pre>False</pre></div></td></tr><tr><td>IsSecurityTransparent</td><td><div class=\"dni-plaintext\"><pre>False</pre></div></td></tr><tr><td>MethodHandle</td><td><details class=\"dni-treeview\"><summary><span class=\"dni-code-hint\"><code>System.RuntimeMethodHandle</code></span></summary><div><table><thead><tr></tr></thead><tbody><tr><td>Value</td><td>140706045066488</td></tr></tbody></table></div></details></td></tr><tr><td>Attributes</td><td><span>PrivateScope, Assembly, HideBySig</span></td></tr><tr><td>CallingConvention</td><td><span>Standard, HasThis</span></td></tr><tr><td>ReturnType</td><td><span><a href=\"https://docs.microsoft.com/dotnet/api/microsoft.semantickernel.ai.textcompletion.itextcompletion?view=net-7.0\">Microsoft.SemanticKernel.AI.TextCompletion.ITextCompletion</a></span></td></tr><tr><td>ReturnTypeCustomAttributes</td><td><details class=\"dni-treeview\"><summary><span class=\"dni-code-hint\"><code>Microsoft.SemanticKernel.AI.TextCompletion.ITextCompletion</code></span></summary><div><table><thead><tr></tr></thead><tbody><tr><td>ParameterType</td><td>Microsoft.SemanticKernel.AI.TextCompletion.ITextCompletion</td></tr><tr><td>Name</td><td><div class=\"dni-plaintext\"><pre>&lt;null&gt;</pre></div></td></tr><tr><td>HasDefaultValue</td><td>True</td></tr><tr><td>DefaultValue</td><td><div class=\"dni-plaintext\"><pre>&lt;null&gt;</pre></div></td></tr><tr><td>RawDefaultValue</td><td><div class=\"dni-plaintext\"><pre>&lt;null&gt;</pre></div></td></tr><tr><td>MetadataToken</td><td>134217728</td></tr><tr><td>Attributes</td><td>None</td></tr><tr><td>Member</td><td>Microsoft.SemanticKernel.AI.TextCompletion.ITextCompletion <AddAzureTextCompletionService>g__Factory|0(Microsoft.SemanticKernel.IKernel)</td></tr><tr><td>Position</td><td>-1</td></tr><tr><td>IsIn</td><td>False</td></tr><tr><td>IsLcid</td><td>False</td></tr><tr><td>IsOptional</td><td>False</td></tr><tr><td>IsOut</td><td>False</td></tr><tr><td>IsRetval</td><td>False</td></tr><tr><td>CustomAttributes</td><td></td></tr></tbody></table></div></details></td></tr><tr><td>ReturnParameter</td><td><details class=\"dni-treeview\"><summary><span class=\"dni-code-hint\"><code>Microsoft.SemanticKernel.AI.TextCompletion.ITextCompletion</code></span></summary><div><table><thead><tr></tr></thead><tbody><tr><td>ParameterType</td><td>Microsoft.SemanticKernel.AI.TextCompletion.ITextCompletion</td></tr><tr><td>Name</td><td><div class=\"dni-plaintext\"><pre>&lt;null&gt;</pre></div></td></tr><tr><td>HasDefaultValue</td><td>True</td></tr><tr><td>DefaultValue</td><td><div class=\"dni-plaintext\"><pre>&lt;null&gt;</pre></div></td></tr><tr><td>RawDefaultValue</td><td><div class=\"dni-plaintext\"><pre>&lt;null&gt;</pre></div></td></tr><tr><td>MetadataToken</td><td>134217728</td></tr><tr><td>Attributes</td><td>None</td></tr><tr><td>Member</td><td>Microsoft.SemanticKernel.AI.TextCompletion.ITextCompletion <AddAzureTextCompletionService>g__Factory|0(Microsoft.SemanticKernel.IKernel)</td></tr><tr><td>Position</td><td>-1</td></tr><tr><td>IsIn</td><td>False</td></tr><tr><td>IsLcid</td><td>False</td></tr><tr><td>IsOptional</td><td>False</td></tr><tr><td>IsOut</td><td>False</td></tr><tr><td>IsRetval</td><td>False</td></tr><tr><td>CustomAttributes</td><td></td></tr></tbody></table></div></details></td></tr><tr><td>IsCollectible</td><td><div class=\"dni-plaintext\"><pre>False</pre></div></td></tr><tr><td>IsGenericMethod</td><td><div class=\"dni-plaintext\"><pre>False</pre></div></td></tr><tr><td>IsGenericMethodDefinition</td><td><div class=\"dni-plaintext\"><pre>False</pre></div></td></tr><tr><td>ContainsGenericParameters</td><td><div class=\"dni-plaintext\"><pre>False</pre></div></td></tr><tr><td>MethodImplementationFlags</td><td><span>IL</span></td></tr><tr><td>IsAbstract</td><td><div class=\"dni-plaintext\"><pre>False</pre></div></td></tr><tr><td>IsConstructor</td><td><div class=\"dni-plaintext\"><pre>False</pre></div></td></tr><tr><td>IsFinal</td><td><div class=\"dni-plaintext\"><pre>False</pre></div></td></tr><tr><td>IsHideBySig</td><td><div class=\"dni-plaintext\"><pre>True</pre></div></td></tr><tr><td>IsSpecialName</td><td><div class=\"dni-plaintext\"><pre>False</pre></div></td></tr><tr><td>IsStatic</td><td><div class=\"dni-plaintext\"><pre>False</pre></div></td></tr><tr><td>IsVirtual</td><td><div class=\"dni-plaintext\"><pre>False</pre></div></td></tr><tr><td>IsAssembly</td><td><div class=\"dni-plaintext\"><pre>True</pre></div></td></tr><tr><td>IsFamily</td><td><div class=\"dni-plaintext\"><pre>False</pre></div></td></tr><tr><td>IsFamilyAndAssembly</td><td><div class=\"dni-plaintext\"><pre>False</pre></div></td></tr><tr><td>IsFamilyOrAssembly</td><td><div class=\"dni-plaintext\"><pre>False</pre></div></td></tr><tr><td>IsPrivate</td><td><div class=\"dni-plaintext\"><pre>False</pre></div></td></tr><tr><td>IsPublic</td><td><div class=\"dni-plaintext\"><pre>False</pre></div></td></tr><tr><td>IsConstructedGenericMethod</td><td><div class=\"dni-plaintext\"><pre>False</pre></div></td></tr><tr><td>CustomAttributes</td><td></td></tr></tbody></table></div></details></td></tr></tbody></table></div></details></td></tr></tbody></table></td></tr><tr><td>ChatCompletionServices</td><td><i>(empty)</i></td></tr><tr><td>TextEmbeddingGenerationServices</td><td><i>(empty)</i></td></tr><tr><td>ImageGenerationServices</td><td><i>(empty)</i></td></tr></tbody></table></div></details></td></tr><tr><td>Log</td><td><details class=\"dni-treeview\"><summary><span class=\"dni-code-hint\"><code>Microsoft.Extensions.Logging.Abstractions.NullLogger</code></span></summary><div><table><thead><tr></tr></thead><tbody></tbody></table></div></details></td></tr><tr><td>Memory</td><td><details class=\"dni-treeview\"><summary><span class=\"dni-code-hint\"><code>Microsoft.SemanticKernel.Memory.NullMemory</code></span></summary><div><table><thead><tr></tr></thead><tbody></tbody></table></div></details></td></tr><tr><td>Skills</td><td><details class=\"dni-treeview\"><summary><span class=\"dni-code-hint\"><code>Microsoft.SemanticKernel.SkillDefinition.ReadOnlySkillCollection</code></span></summary><div><table><thead><tr></tr></thead><tbody></tbody></table></div></details></td></tr><tr><td>PromptTemplateEngine</td><td><details class=\"dni-treeview\"><summary><span class=\"dni-code-hint\"><code>Microsoft.SemanticKernel.TemplateEngine.PromptTemplateEngine</code></span></summary><div><table><thead><tr></tr></thead><tbody></tbody></table></div></details></td></tr></tbody></table></div></details><style>\r\n",
       ".dni-code-hint {\r\n",
       "    font-style: italic;\r\n",
       "    overflow: hidden;\r\n",
       "    white-space: nowrap;\r\n",
       "}\r\n",
       ".dni-treeview {\r\n",
       "    white-space: nowrap;\r\n",
       "}\r\n",
       ".dni-treeview td {\r\n",
       "    vertical-align: top;\r\n",
       "    text-align: start;\r\n",
       "}\r\n",
       "details.dni-treeview {\r\n",
       "    padding-left: 1em;\r\n",
       "}\r\n",
       "table td {\r\n",
       "    text-align: start;\r\n",
       "}\r\n",
       "table tr { \r\n",
       "    vertical-align: top; \r\n",
       "    margin: 0em 0px;\r\n",
       "}\r\n",
       "table tr td pre \r\n",
       "{ \r\n",
       "    vertical-align: top !important; \r\n",
       "    margin: 0em 0px !important;\r\n",
       "} \r\n",
       "table th {\r\n",
       "    text-align: start;\r\n",
       "}\r\n",
       "</style>"
      ]
     },
     "metadata": {},
     "output_type": "display_data"
    }
   ],
   "source": [
    "kernel"
   ]
  },
  {
   "cell_type": "code",
   "execution_count": 117,
   "metadata": {
    "dotnet_interactive": {
     "language": "csharp"
    },
    "polyglot_notebook": {
     "kernelName": "csharp"
    }
   },
   "outputs": [
    {
     "data": {
      "text/plain": [
       "Answer questions only when you know the facts or the information is provided.\r\n",
       "When you don't have sufficient information you reply with a list of commands to find the information needed.\r\n",
       "When answering multiple questions, use a bullet point list.\r\n",
       "Note: make sure single and double quotes are escaped using a backslash char.\r\n",
       "\r\n",
       "[COMMANDS AVAILABLE]\r\n",
       "- bing.search\r\n",
       "\r\n",
       "[INFORMATION PROVIDED]\r\n",
       "{{ $externalInformation }}\r\n",
       "\r\n",
       "[EXAMPLE 1]\r\n",
       "Question: what's the biggest lake in Italy?\r\n",
       "Answer: Lake Garda, also known as Lago di Garda.\r\n",
       "\r\n",
       "[EXAMPLE 2]\r\n",
       "Question: what's the biggest lake in Italy? What's the smallest positive number?\r\n",
       "Answer:\r\n",
       "* Lake Garda, also known as Lago di Garda.\r\n",
       "* The smallest positive number is 1.\r\n",
       "\r\n",
       "[EXAMPLE 3]\r\n",
       "Question: what's Ferrari stock price ? Who is the current number one female tennis player in the world?\r\n",
       "Answer:\r\n",
       "{{ '{{' }} bing.search \"what\\\\'s Ferrari stock price?\" {{ '}}' }}.\r\n",
       "{{ '{{' }} bing.search \"Who is the current number one female tennis player in the world?\" {{ '}}' }}.\r\n",
       "\r\n",
       "[END OF EXAMPLES]\r\n",
       "\r\n",
       "[TASK]\r\n",
       "Question: {{ $input }}.\r\n",
       "Answer: "
      ]
     },
     "metadata": {},
     "output_type": "display_data"
    }
   ],
   "source": [
    "SemanticFunction"
   ]
  },
  {
   "attachments": {},
   "cell_type": "markdown",
   "metadata": {},
   "source": [
    "maxTokens: The maximum number of tokens to generate in the completion. The token count of your prompt plus max_tokens can't exceed the model's context length. Most models have a context length of 2048 tokens (except for the newest models, which support 4096). [Open AI Reference](https://learn.microsoft.com/en-us/azure/cognitive-services/openai/reference)"
   ]
  },
  {
   "cell_type": "code",
   "execution_count": 136,
   "metadata": {
    "dotnet_interactive": {
     "language": "csharp"
    },
    "polyglot_notebook": {
     "kernelName": "csharp"
    }
   },
   "outputs": [],
   "source": [
    "var oracle = kernel.CreateSemanticFunction(SemanticFunction, maxTokens: 200, temperature: 0, topP: 1);"
   ]
  },
  {
   "cell_type": "code",
   "execution_count": 137,
   "metadata": {
    "dotnet_interactive": {
     "language": "csharp"
    },
    "polyglot_notebook": {
     "kernelName": "csharp"
    }
   },
   "outputs": [
    {
     "data": {
      "text/html": [
       "<details open=\"open\" class=\"dni-treeview\"><summary><span class=\"dni-code-hint\"><code>{\"Name\":\"func3289c1b15b104c56ad5f6981b2d5750d\",\"SkillName\":\"_GLOBAL_FUNCTIONS_\",\"Description\":\"Generic function, unknown purpose\",\"IsSemantic\":true,\"RequestSettings\":{\"Temperature\":0,\"TopP\":1,\"PresencePenalty\":0,\"FrequencyPenalty\":0,\"MaxTokens\":200,\"StopSequences\":[]},\"Parameters\":[{\"Name\":\"external...</code></span></summary><div><table><thead><tr></tr></thead><tbody><tr><td>Name</td><td>func3289c1b15b104c56ad5f6981b2d5750d</td></tr><tr><td>SkillName</td><td>_GLOBAL_FUNCTIONS_</td></tr><tr><td>Description</td><td>Generic function, unknown purpose</td></tr><tr><td>IsSemantic</td><td><div class=\"dni-plaintext\"><pre>True</pre></div></td></tr><tr><td>RequestSettings</td><td><details class=\"dni-treeview\"><summary><span class=\"dni-code-hint\"><code>Microsoft.SemanticKernel.AI.TextCompletion.CompleteRequestSettings</code></span></summary><div><table><thead><tr></tr></thead><tbody><tr><td>Temperature</td><td><div class=\"dni-plaintext\"><pre>0</pre></div></td></tr><tr><td>TopP</td><td><div class=\"dni-plaintext\"><pre>1</pre></div></td></tr><tr><td>PresencePenalty</td><td><div class=\"dni-plaintext\"><pre>0</pre></div></td></tr><tr><td>FrequencyPenalty</td><td><div class=\"dni-plaintext\"><pre>0</pre></div></td></tr><tr><td>MaxTokens</td><td><div class=\"dni-plaintext\"><pre>200</pre></div></td></tr><tr><td>StopSequences</td><td></td></tr></tbody></table></div></details></td></tr><tr><td>Parameters</td><td><table><thead><tr><th><i>index</i></th><th>value</th></tr></thead><tbody><tr><td>0</td><td><details class=\"dni-treeview\"><summary><span class=\"dni-code-hint\"><code>Microsoft.SemanticKernel.SkillDefinition.ParameterView</code></span></summary><div><table><thead><tr></tr></thead><tbody><tr><td>Name</td><td>externalInformation</td></tr><tr><td>Description</td><td></td></tr><tr><td>DefaultValue</td><td></td></tr></tbody></table></div></details></td></tr><tr><td>1</td><td><details class=\"dni-treeview\"><summary><span class=\"dni-code-hint\"><code>Microsoft.SemanticKernel.SkillDefinition.ParameterView</code></span></summary><div><table><thead><tr></tr></thead><tbody><tr><td>Name</td><td>input</td></tr><tr><td>Description</td><td></td></tr><tr><td>DefaultValue</td><td></td></tr></tbody></table></div></details></td></tr></tbody></table></td></tr></tbody></table></div></details><style>\r\n",
       ".dni-code-hint {\r\n",
       "    font-style: italic;\r\n",
       "    overflow: hidden;\r\n",
       "    white-space: nowrap;\r\n",
       "}\r\n",
       ".dni-treeview {\r\n",
       "    white-space: nowrap;\r\n",
       "}\r\n",
       ".dni-treeview td {\r\n",
       "    vertical-align: top;\r\n",
       "    text-align: start;\r\n",
       "}\r\n",
       "details.dni-treeview {\r\n",
       "    padding-left: 1em;\r\n",
       "}\r\n",
       "table td {\r\n",
       "    text-align: start;\r\n",
       "}\r\n",
       "table tr { \r\n",
       "    vertical-align: top; \r\n",
       "    margin: 0em 0px;\r\n",
       "}\r\n",
       "table tr td pre \r\n",
       "{ \r\n",
       "    vertical-align: top !important; \r\n",
       "    margin: 0em 0px !important;\r\n",
       "} \r\n",
       "table th {\r\n",
       "    text-align: start;\r\n",
       "}\r\n",
       "</style>"
      ]
     },
     "metadata": {},
     "output_type": "display_data"
    }
   ],
   "source": [
    "oracle"
   ]
  },
  {
   "cell_type": "code",
   "execution_count": 143,
   "metadata": {
    "dotnet_interactive": {
     "language": "csharp"
    },
    "polyglot_notebook": {
     "kernelName": "csharp"
    }
   },
   "outputs": [
    {
     "name": "stdout",
     "output_type": "stream",
     "text": [
      "What's the exchange rate EUR:USD?\r\n"
     ]
    }
   ],
   "source": [
    "var oracle = kernel.CreateSemanticFunction(SemanticFunction);\n",
    "\n",
    "var context = kernel.CreateNewContext();\n",
    "context[\"externalInformation\"] = \"\";\n",
    "\n",
    "var questions = \"What's the exchange rate EUR:USD?\";\n",
    "Console.WriteLine(questions);\n",
    "\n",
    "//context.Variables.Update(questions);\n",
    "context[\"input\"] = questions;\n",
    "var answer = await oracle.InvokeAsync(context);"
   ]
  },
  {
   "cell_type": "code",
   "execution_count": 148,
   "metadata": {
    "dotnet_interactive": {
     "language": "csharp"
    },
    "polyglot_notebook": {
     "kernelName": "csharp"
    }
   },
   "outputs": [
    {
     "data": {
      "text/html": [
       "<details open=\"open\" class=\"dni-treeview\"><summary><span class=\"dni-code-hint\"><code>Error: Invalid request: The request is not valid, HTTP status: 400</code></span></summary><div><table><thead><tr></tr></thead><tbody><tr><td>Result</td><td>What&#39;s the exchange rate EUR:USD?</td></tr><tr><td>ErrorOccurred</td><td><div class=\"dni-plaintext\"><pre>True</pre></div></td></tr><tr><td>LastErrorDescription</td><td>Invalid request: The request is not valid, HTTP status: 400</td></tr><tr><td>LastException</td><td><details class=\"dni-treeview\"><summary><span class=\"dni-code-hint\"><code>Microsoft.SemanticKernel.AI.AIException: Invalid request: The request is not valid, HTTP status: 400\\r\\n   at Microsoft.SemanticKernel.Connectors.AI.OpenAI.AzureSdk.ClientBase.RunRequestAsync[T](Func`1 request)\\r\\n   at Microsoft.SemanticKernel.Connectors.AI.OpenAI.AzureSdk.ClientBase.InternalComple...</code></span></summary><div><table><thead><tr></tr></thead><tbody><tr><td>ErrorCode</td><td><span>InvalidRequest</span></td></tr><tr><td>Detail</td><td>logprobs, best_of and echo parameters are not available on gpt-35-turbo model. Please remove the parameter and try again. For more details, see https://go.microsoft.com/fwlink/?linkid=2227346.\r\n",
       "Status: 400 (BadRequest)\r\n",
       "ErrorCode: BadRequest\r\n",
       "\r\n",
       "Content:\r\n",
       "{&quot;error&quot;:{&quot;code&quot;:&quot;BadRequest&quot;,&quot;message&quot;:&quot;logprobs, best_of and echo parameters are not available on gpt-35-turbo model. Please remove the parameter and try again. For more details, see https://go.microsoft.com/fwlink/?linkid=2227346.&quot;}}\r\n",
       "\r\n",
       "Headers:\r\n",
       "apim-request-id: REDACTED\r\n",
       "Strict-Transport-Security: REDACTED\r\n",
       "X-Content-Type-Options: REDACTED\r\n",
       "x-ms-region: REDACTED\r\n",
       "Date: Wed, 17 May 2023 06:38:24 GMT\r\n",
       "Content-Length: 236\r\n",
       "Content-Type: application/json\r\n",
       "</td></tr><tr><td>TargetSite</td><td><details class=\"dni-treeview\"><summary><span class=\"dni-code-hint\"><code>Void MoveNext()</code></span></summary><div><table><thead><tr></tr></thead><tbody><tr><td>Name</td><td>MoveNext</td></tr><tr><td>DeclaringType</td><td><span><a href=\"https://docs.microsoft.com/dotnet/api/microsoft.semantickernel.connectors.ai.openai.azuresdk.clientbase.&lt;runrequestasync>d__19-1?view=net-7.0\">Microsoft.SemanticKernel.Connectors.AI.OpenAI.AzureSdk.ClientBase+&lt;RunRequestAsync&gt;d__19&lt;T&gt;</a></span></td></tr><tr><td>ReflectedType</td><td><span><a href=\"https://docs.microsoft.com/dotnet/api/microsoft.semantickernel.connectors.ai.openai.azuresdk.clientbase.&lt;runrequestasync>d__19-1?view=net-7.0\">Microsoft.SemanticKernel.Connectors.AI.OpenAI.AzureSdk.ClientBase+&lt;RunRequestAsync&gt;d__19&lt;T&gt;</a></span></td></tr><tr><td>MemberType</td><td><span>Method</span></td></tr><tr><td>MetadataToken</td><td><div class=\"dni-plaintext\"><pre>100663555</pre></div></td></tr><tr><td>Module</td><td><details class=\"dni-treeview\"><summary><span class=\"dni-code-hint\"><code>Microsoft.SemanticKernel.Connectors.AI.OpenAI.dll</code></span></summary><div><table><thead><tr></tr></thead><tbody><tr><td>MDStreamVersion</td><td><div class=\"dni-plaintext\"><pre>131072</pre></div></td></tr><tr><td>FullyQualifiedName</td><td>C:\\Users\\taehokim\\.nuget\\packages\\microsoft.semantickernel.connectors.ai.openai\\0.14.547.1-preview\\lib\\netstandard2.0\\Microsoft.SemanticKernel.Connectors.AI.OpenAI.dll</td></tr><tr><td>ModuleVersionId</td><td><div class=\"dni-plaintext\"><pre>470c1783-16b8-4b57-8594-0eb4b3a48c07</pre></div></td></tr><tr><td>MetadataToken</td><td><div class=\"dni-plaintext\"><pre>1</pre></div></td></tr><tr><td>ScopeName</td><td>Microsoft.SemanticKernel.Connectors.AI.OpenAI.dll</td></tr><tr><td>Name</td><td>Microsoft.SemanticKernel.Connectors.AI.OpenAI.dll</td></tr><tr><td>Assembly</td><td><details class=\"dni-treeview\"><summary><span class=\"dni-code-hint\"><code>Microsoft.SemanticKernel.Connectors.AI.OpenAI, Version=0.14.547.1, Culture=neutral, PublicKeyToken=null</code></span></summary><div><table><thead><tr></tr></thead><tbody><tr><td>CodeBase</td><td>file:///C:/Users/taehokim/.nuget/packages/microsoft.semantickernel.connectors.ai.openai/0.14.547.1-preview/lib/netstandard2.0/Microsoft.SemanticKernel.Connectors.AI.OpenAI.dll</td></tr><tr><td>FullName</td><td>Microsoft.SemanticKernel.Connectors.AI.OpenAI, Version=0.14.547.1, Culture=neutral, PublicKeyToken=null</td></tr><tr><td>EntryPoint</td><td><div class=\"dni-plaintext\"><pre>&lt;null&gt;</pre></div></td></tr><tr><td>DefinedTypes</td><td><table><thead><tr><th><i>index</i></th><th>value</th></tr></thead><tbody><tr><td>0</td><td>Microsoft.CodeAnalysis.EmbeddedAttribute</td></tr><tr><td>1</td><td>System.Runtime.CompilerServices.NullableAttribute</td></tr><tr><td>2</td><td>System.Runtime.CompilerServices.NullableContextAttribute</td></tr><tr><td>3</td><td>System.ExceptionExtensions</td></tr><tr><td>4</td><td>System.Diagnostics.CodeAnalysis.AllowNullAttribute</td></tr><tr><td>5</td><td>System.Diagnostics.CodeAnalysis.DisallowNullAttribute</td></tr><tr><td>6</td><td>System.Diagnostics.CodeAnalysis.MaybeNullAttribute</td></tr><tr><td>7</td><td>System.Diagnostics.CodeAnalysis.NotNullAttribute</td></tr><tr><td>8</td><td>System.Diagnostics.CodeAnalysis.MaybeNullWhenAttribute</td></tr><tr><td>9</td><td>System.Diagnostics.CodeAnalysis.NotNullWhenAttribute</td></tr><tr><td>10</td><td>System.Diagnostics.CodeAnalysis.NotNullIfNotNullAttribute</td></tr><tr><td>11</td><td>System.Diagnostics.CodeAnalysis.DoesNotReturnAttribute</td></tr><tr><td>12</td><td>System.Diagnostics.CodeAnalysis.DoesNotReturnIfAttribute</td></tr><tr><td>13</td><td>System.Diagnostics.CodeAnalysis.MemberNotNullAttribute</td></tr><tr><td>14</td><td>System.Diagnostics.CodeAnalysis.MemberNotNullWhenAttribute</td></tr><tr><td>15</td><td>System.Runtime.CompilerServices.CallerArgumentExpressionAttribute</td></tr><tr><td>16</td><td>Microsoft.SemanticKernel.KernelConfigOpenAIExtensions</td></tr><tr><td>17</td><td>Microsoft.SemanticKernel.Text.Json</td></tr><tr><td>18</td><td>Microsoft.SemanticKernel.Text.StringExtensions</td></tr><tr><td>19</td><td>Microsoft.SemanticKernel.Diagnostics.HttpStatusCodeType</td></tr><tr><td colspan=\"2\"><i>(57 more)</i></td></tr></tbody></table></td></tr><tr><td>IsCollectible</td><td><div class=\"dni-plaintext\"><pre>False</pre></div></td></tr><tr><td>ManifestModule</td><td><details class=\"dni-treeview\"><summary><span class=\"dni-code-hint\"><code>Microsoft.SemanticKernel.Connectors.AI.OpenAI.dll</code></span></summary><div><table><thead><tr></tr></thead><tbody><tr><td>MDStreamVersion</td><td>131072</td></tr><tr><td>FullyQualifiedName</td><td>C:\\Users\\taehokim\\.nuget\\packages\\microsoft.semantickernel.connectors.ai.openai\\0.14.547.1-preview\\lib\\netstandard2.0\\Microsoft.SemanticKernel.Connectors.AI.OpenAI.dll</td></tr><tr><td>ModuleVersionId</td><td>470c1783-16b8-4b57-8594-0eb4b3a48c07</td></tr><tr><td>MetadataToken</td><td>1</td></tr><tr><td>ScopeName</td><td>Microsoft.SemanticKernel.Connectors.AI.OpenAI.dll</td></tr><tr><td>Name</td><td>Microsoft.SemanticKernel.Connectors.AI.OpenAI.dll</td></tr><tr><td>Assembly</td><td>Microsoft.SemanticKernel.Connectors.AI.OpenAI, Version=0.14.547.1, Culture=neutral, PublicKeyToken=null</td></tr><tr><td>ModuleHandle</td><td>System.ModuleHandle</td></tr><tr><td>CustomAttributes</td><td>[ [System.Security.UnverifiableCodeAttribute()] ]</td></tr></tbody></table></div></details></td></tr><tr><td>ReflectionOnly</td><td><div class=\"dni-plaintext\"><pre>False</pre></div></td></tr><tr><td>Location</td><td>C:\\Users\\taehokim\\.nuget\\packages\\microsoft.semantickernel.connectors.ai.openai\\0.14.547.1-preview\\lib\\netstandard2.0\\Microsoft.SemanticKernel.Connectors.AI.OpenAI.dll</td></tr><tr><td>ImageRuntimeVersion</td><td>v4.0.30319</td></tr><tr><td>GlobalAssemblyCache</td><td><div class=\"dni-plaintext\"><pre>False</pre></div></td></tr><tr><td>HostContext</td><td><div class=\"dni-plaintext\"><pre>0</pre></div></td></tr><tr><td>IsDynamic</td><td><div class=\"dni-plaintext\"><pre>False</pre></div></td></tr><tr><td>ExportedTypes</td><td><table><thead><tr><th><i>index</i></th><th>value</th></tr></thead><tbody><tr><td>0</td><td>Microsoft.SemanticKernel.KernelConfigOpenAIExtensions</td></tr><tr><td>1</td><td>Microsoft.SemanticKernel.Connectors.AI.OpenAI.Tokenizers.GPT3Tokenizer</td></tr><tr><td>2</td><td>Microsoft.SemanticKernel.Connectors.AI.OpenAI.TextEmbedding.AzureTextEmbeddingGeneration</td></tr><tr><td>3</td><td>Microsoft.SemanticKernel.Connectors.AI.OpenAI.TextEmbedding.OpenAITextEmbeddingGeneration</td></tr><tr><td>4</td><td>Microsoft.SemanticKernel.Connectors.AI.OpenAI.TextEmbedding.TextEmbeddingRequest</td></tr><tr><td>5</td><td>Microsoft.SemanticKernel.Connectors.AI.OpenAI.TextEmbedding.OpenAITextEmbeddingRequest</td></tr><tr><td>6</td><td>Microsoft.SemanticKernel.Connectors.AI.OpenAI.TextEmbedding.AzureTextEmbeddingRequest</td></tr><tr><td>7</td><td>Microsoft.SemanticKernel.Connectors.AI.OpenAI.TextEmbedding.TextEmbeddingResponse</td></tr><tr><td>8</td><td>Microsoft.SemanticKernel.Connectors.AI.OpenAI.TextCompletion.AzureTextCompletion</td></tr><tr><td>9</td><td>Microsoft.SemanticKernel.Connectors.AI.OpenAI.TextCompletion.OpenAITextCompletion</td></tr><tr><td>10</td><td>Microsoft.SemanticKernel.Connectors.AI.OpenAI.ImageGeneration.ImageGenerationRequest</td></tr><tr><td>11</td><td>Microsoft.SemanticKernel.Connectors.AI.OpenAI.ImageGeneration.ImageGenerationResponse</td></tr><tr><td>12</td><td>Microsoft.SemanticKernel.Connectors.AI.OpenAI.ImageGeneration.OpenAIImageGeneration</td></tr><tr><td>13</td><td>Microsoft.SemanticKernel.Connectors.AI.OpenAI.CustomClient.OpenAIClientBase</td></tr><tr><td>14</td><td>Microsoft.SemanticKernel.Connectors.AI.OpenAI.ChatCompletion.AzureChatCompletion</td></tr><tr><td>15</td><td>Microsoft.SemanticKernel.Connectors.AI.OpenAI.ChatCompletion.OpenAIChatCompletion</td></tr><tr><td>16</td><td>Microsoft.SemanticKernel.Connectors.AI.OpenAI.ChatCompletion.OpenAIChatHistory</td></tr><tr><td>17</td><td>Microsoft.SemanticKernel.Connectors.AI.OpenAI.AzureSdk.AzureOpenAIClientBase</td></tr><tr><td>18</td><td>Microsoft.SemanticKernel.Connectors.AI.OpenAI.AzureSdk.ClientBase</td></tr><tr><td>19</td><td>Microsoft.SemanticKernel.Connectors.AI.OpenAI.AzureSdk.OpenAIClientBase</td></tr><tr><td colspan=\"2\"><i>(2 more)</i></td></tr></tbody></table></td></tr><tr><td>IsFullyTrusted</td><td><div class=\"dni-plaintext\"><pre>True</pre></div></td></tr><tr><td>CustomAttributes</td><td><table><thead><tr><th><i>index</i></th><th>value</th></tr></thead><tbody><tr><td>0</td><td>[System.Runtime.CompilerServices.ExtensionAttribute()]</td></tr><tr><td>1</td><td>[System.Runtime.CompilerServices.CompilationRelaxationsAttribute((Int32)8)]</td></tr><tr><td>2</td><td>[System.Runtime.CompilerServices.RuntimeCompatibilityAttribute(WrapNonExceptionThrows = True)]</td></tr><tr><td>3</td><td>[System.Diagnostics.DebuggableAttribute((System.Diagnostics.DebuggableAttribute+DebuggingModes)2)]</td></tr><tr><td>4</td><td>[System.Runtime.Versioning.TargetFrameworkAttribute(\".NETStandard,Version=v2.0\", FrameworkDisplayName = \".NET Standard 2.0\")]</td></tr><tr><td>5</td><td>[System.CLSCompliantAttribute((Boolean)False)]</td></tr><tr><td>6</td><td>[System.Reflection.AssemblyCompanyAttribute(\"Microsoft\")]</td></tr><tr><td>7</td><td>[System.Reflection.AssemblyConfigurationAttribute(\"Release\")]</td></tr><tr><td>8</td><td>[System.Reflection.AssemblyCopyrightAttribute(\"© Microsoft Corporation. All rights reserved.\")]</td></tr><tr><td>9</td><td>[System.Reflection.AssemblyDescriptionAttribute(\"Semantic Kernel connectors for OpenAI and Azure OpenAI. Contains clients for text completion, chat completion, embedding and DALL-E image generation.\")]</td></tr><tr><td>10</td><td>[System.Reflection.AssemblyFileVersionAttribute(\"0.14.547.1\")]</td></tr><tr><td>11</td><td>[System.Reflection.AssemblyInformationalVersionAttribute(\"0.14.547.1-preview+4f2361e32066ce6f72bc36ca885e36d8402db051\")]</td></tr><tr><td>12</td><td>[System.Reflection.AssemblyProductAttribute(\"Semantic Kernel\")]</td></tr><tr><td>13</td><td>[System.Reflection.AssemblyTitleAttribute(\"Microsoft.SemanticKernel.Connectors.AI.OpenAI\")]</td></tr><tr><td>14</td><td>[System.Reflection.AssemblyMetadataAttribute(\"RepositoryUrl\", \"https://github.com/microsoft/semantic-kernel\")]</td></tr></tbody></table></td></tr><tr><td>EscapedCodeBase</td><td>file:///C:/Users/taehokim/.nuget/packages/microsoft.semantickernel.connectors.ai.openai/0.14.547.1-preview/lib/netstandard2.0/Microsoft.SemanticKernel.Connectors.AI.OpenAI.dll</td></tr><tr><td>Modules</td><td><table><thead><tr><th><i>index</i></th><th>value</th></tr></thead><tbody><tr><td>0</td><td>Microsoft.SemanticKernel.Connectors.AI.OpenAI.dll</td></tr></tbody></table></td></tr><tr><td>SecurityRuleSet</td><td><span>None</span></td></tr></tbody></table></div></details></td></tr><tr><td>ModuleHandle</td><td><details class=\"dni-treeview\"><summary><span class=\"dni-code-hint\"><code>System.ModuleHandle</code></span></summary><div><table><thead><tr></tr></thead><tbody><tr><td>MDStreamVersion</td><td><div class=\"dni-plaintext\"><pre>131072</pre></div></td></tr></tbody></table></div></details></td></tr><tr><td>CustomAttributes</td><td><table><thead><tr><th><i>index</i></th><th>value</th></tr></thead><tbody><tr><td>0</td><td><details class=\"dni-treeview\"><summary><span class=\"dni-code-hint\"><code>[System.Security.UnverifiableCodeAttribute()]</code></span></summary><div><table><thead><tr></tr></thead><tbody><tr><td>Constructor</td><td>Void .ctor()</td></tr><tr><td>ConstructorArguments</td><td>[  ]</td></tr><tr><td>NamedArguments</td><td>[  ]</td></tr><tr><td>AttributeType</td><td>System.Security.UnverifiableCodeAttribute</td></tr></tbody></table></div></details></td></tr></tbody></table></td></tr></tbody></table></div></details></td></tr><tr><td>IsSecurityCritical</td><td><div class=\"dni-plaintext\"><pre>True</pre></div></td></tr><tr><td>IsSecuritySafeCritical</td><td><div class=\"dni-plaintext\"><pre>False</pre></div></td></tr><tr><td>IsSecurityTransparent</td><td><div class=\"dni-plaintext\"><pre>False</pre></div></td></tr><tr><td>MethodHandle</td><td><details class=\"dni-treeview\"><summary><span class=\"dni-code-hint\"><code>System.RuntimeMethodHandle</code></span></summary><div><table><thead><tr></tr></thead><tbody><tr><td>Value</td><td><div class=\"dni-plaintext\"><pre>140706057061784</pre></div></td></tr></tbody></table></div></details></td></tr><tr><td>Attributes</td><td><span>PrivateScope, Private, Final, Virtual, HideBySig, VtableLayoutMask</span></td></tr><tr><td>CallingConvention</td><td><span>Standard, HasThis</span></td></tr><tr><td>ReturnType</td><td><span><a href=\"https://docs.microsoft.com/dotnet/api/system.void?view=net-7.0\">System.Void</a></span></td></tr><tr><td>ReturnTypeCustomAttributes</td><td><details class=\"dni-treeview\"><summary><span class=\"dni-code-hint\"><code>Void</code></span></summary><div><table><thead><tr></tr></thead><tbody><tr><td>ParameterType</td><td><span><a href=\"https://docs.microsoft.com/dotnet/api/system.void?view=net-7.0\">System.Void</a></span></td></tr><tr><td>Name</td><td><div class=\"dni-plaintext\"><pre>&lt;null&gt;</pre></div></td></tr><tr><td>HasDefaultValue</td><td><div class=\"dni-plaintext\"><pre>True</pre></div></td></tr><tr><td>DefaultValue</td><td><div class=\"dni-plaintext\"><pre>&lt;null&gt;</pre></div></td></tr><tr><td>RawDefaultValue</td><td><div class=\"dni-plaintext\"><pre>&lt;null&gt;</pre></div></td></tr><tr><td>MetadataToken</td><td><div class=\"dni-plaintext\"><pre>134217728</pre></div></td></tr><tr><td>Attributes</td><td><span>None</span></td></tr><tr><td>Member</td><td><details class=\"dni-treeview\"><summary><span class=\"dni-code-hint\"><code>Void MoveNext()</code></span></summary><div><table><thead><tr></tr></thead><tbody><tr><td>Name</td><td>MoveNext</td></tr><tr><td>DeclaringType</td><td><span><a href=\"https://docs.microsoft.com/dotnet/api/microsoft.semantickernel.connectors.ai.openai.azuresdk.clientbase.&lt;runrequestasync>d__19-1?view=net-7.0\">Microsoft.SemanticKernel.Connectors.AI.OpenAI.AzureSdk.ClientBase+&lt;RunRequestAsync&gt;d__19&lt;T&gt;</a></span></td></tr><tr><td>ReflectedType</td><td><span><a href=\"https://docs.microsoft.com/dotnet/api/microsoft.semantickernel.connectors.ai.openai.azuresdk.clientbase.&lt;runrequestasync>d__19-1?view=net-7.0\">Microsoft.SemanticKernel.Connectors.AI.OpenAI.AzureSdk.ClientBase+&lt;RunRequestAsync&gt;d__19&lt;T&gt;</a></span></td></tr><tr><td>MemberType</td><td><span>Method</span></td></tr><tr><td>MetadataToken</td><td><div class=\"dni-plaintext\"><pre>100663555</pre></div></td></tr><tr><td>Module</td><td><details class=\"dni-treeview\"><summary><span class=\"dni-code-hint\"><code>Microsoft.SemanticKernel.Connectors.AI.OpenAI.dll</code></span></summary><div><table><thead><tr></tr></thead><tbody><tr><td>MDStreamVersion</td><td>131072</td></tr><tr><td>FullyQualifiedName</td><td>C:\\Users\\taehokim\\.nuget\\packages\\microsoft.semantickernel.connectors.ai.openai\\0.14.547.1-preview\\lib\\netstandard2.0\\Microsoft.SemanticKernel.Connectors.AI.OpenAI.dll</td></tr><tr><td>ModuleVersionId</td><td>470c1783-16b8-4b57-8594-0eb4b3a48c07</td></tr><tr><td>MetadataToken</td><td>1</td></tr><tr><td>ScopeName</td><td>Microsoft.SemanticKernel.Connectors.AI.OpenAI.dll</td></tr><tr><td>Name</td><td>Microsoft.SemanticKernel.Connectors.AI.OpenAI.dll</td></tr><tr><td>Assembly</td><td>Microsoft.SemanticKernel.Connectors.AI.OpenAI, Version=0.14.547.1, Culture=neutral, PublicKeyToken=null</td></tr><tr><td>ModuleHandle</td><td>System.ModuleHandle</td></tr><tr><td>CustomAttributes</td><td>[ [System.Security.UnverifiableCodeAttribute()] ]</td></tr></tbody></table></div></details></td></tr><tr><td>IsSecurityCritical</td><td><div class=\"dni-plaintext\"><pre>True</pre></div></td></tr><tr><td>IsSecuritySafeCritical</td><td><div class=\"dni-plaintext\"><pre>False</pre></div></td></tr><tr><td>IsSecurityTransparent</td><td><div class=\"dni-plaintext\"><pre>False</pre></div></td></tr><tr><td>MethodHandle</td><td><details class=\"dni-treeview\"><summary><span class=\"dni-code-hint\"><code>System.RuntimeMethodHandle</code></span></summary><div><table><thead><tr></tr></thead><tbody><tr><td>Value</td><td>140706057061784</td></tr></tbody></table></div></details></td></tr><tr><td>Attributes</td><td><span>PrivateScope, Private, Final, Virtual, HideBySig, VtableLayoutMask</span></td></tr><tr><td>CallingConvention</td><td><span>Standard, HasThis</span></td></tr><tr><td>ReturnType</td><td><span><a href=\"https://docs.microsoft.com/dotnet/api/system.void?view=net-7.0\">System.Void</a></span></td></tr><tr><td>ReturnTypeCustomAttributes</td><td><details class=\"dni-treeview\"><summary><span class=\"dni-code-hint\"><code>Void</code></span></summary><div><table><thead><tr></tr></thead><tbody><tr><td>ParameterType</td><td>System.Void</td></tr><tr><td>Name</td><td><div class=\"dni-plaintext\"><pre>&lt;null&gt;</pre></div></td></tr><tr><td>HasDefaultValue</td><td>True</td></tr><tr><td>DefaultValue</td><td><div class=\"dni-plaintext\"><pre>&lt;null&gt;</pre></div></td></tr><tr><td>RawDefaultValue</td><td><div class=\"dni-plaintext\"><pre>&lt;null&gt;</pre></div></td></tr><tr><td>MetadataToken</td><td>134217728</td></tr><tr><td>Attributes</td><td>None</td></tr><tr><td>Member</td><td>Void MoveNext()</td></tr><tr><td>Position</td><td>-1</td></tr><tr><td>IsIn</td><td>False</td></tr><tr><td>IsLcid</td><td>False</td></tr><tr><td>IsOptional</td><td>False</td></tr><tr><td>IsOut</td><td>False</td></tr><tr><td>IsRetval</td><td>False</td></tr><tr><td>CustomAttributes</td><td></td></tr></tbody></table></div></details></td></tr><tr><td>ReturnParameter</td><td><details class=\"dni-treeview\"><summary><span class=\"dni-code-hint\"><code>Void</code></span></summary><div><table><thead><tr></tr></thead><tbody><tr><td>ParameterType</td><td>System.Void</td></tr><tr><td>Name</td><td><div class=\"dni-plaintext\"><pre>&lt;null&gt;</pre></div></td></tr><tr><td>HasDefaultValue</td><td>True</td></tr><tr><td>DefaultValue</td><td><div class=\"dni-plaintext\"><pre>&lt;null&gt;</pre></div></td></tr><tr><td>RawDefaultValue</td><td><div class=\"dni-plaintext\"><pre>&lt;null&gt;</pre></div></td></tr><tr><td>MetadataToken</td><td>134217728</td></tr><tr><td>Attributes</td><td>None</td></tr><tr><td>Member</td><td>Void MoveNext()</td></tr><tr><td>Position</td><td>-1</td></tr><tr><td>IsIn</td><td>False</td></tr><tr><td>IsLcid</td><td>False</td></tr><tr><td>IsOptional</td><td>False</td></tr><tr><td>IsOut</td><td>False</td></tr><tr><td>IsRetval</td><td>False</td></tr><tr><td>CustomAttributes</td><td></td></tr></tbody></table></div></details></td></tr><tr><td>IsCollectible</td><td><div class=\"dni-plaintext\"><pre>False</pre></div></td></tr><tr><td>IsGenericMethod</td><td><div class=\"dni-plaintext\"><pre>False</pre></div></td></tr><tr><td>IsGenericMethodDefinition</td><td><div class=\"dni-plaintext\"><pre>False</pre></div></td></tr><tr><td>ContainsGenericParameters</td><td><div class=\"dni-plaintext\"><pre>True</pre></div></td></tr><tr><td>MethodImplementationFlags</td><td><span>IL</span></td></tr><tr><td>IsAbstract</td><td><div class=\"dni-plaintext\"><pre>False</pre></div></td></tr><tr><td>IsConstructor</td><td><div class=\"dni-plaintext\"><pre>False</pre></div></td></tr><tr><td>IsFinal</td><td><div class=\"dni-plaintext\"><pre>True</pre></div></td></tr><tr><td>IsHideBySig</td><td><div class=\"dni-plaintext\"><pre>True</pre></div></td></tr><tr><td>IsSpecialName</td><td><div class=\"dni-plaintext\"><pre>False</pre></div></td></tr><tr><td>IsStatic</td><td><div class=\"dni-plaintext\"><pre>False</pre></div></td></tr><tr><td>IsVirtual</td><td><div class=\"dni-plaintext\"><pre>True</pre></div></td></tr><tr><td>IsAssembly</td><td><div class=\"dni-plaintext\"><pre>False</pre></div></td></tr><tr><td>IsFamily</td><td><div class=\"dni-plaintext\"><pre>False</pre></div></td></tr><tr><td>IsFamilyAndAssembly</td><td><div class=\"dni-plaintext\"><pre>False</pre></div></td></tr><tr><td>IsFamilyOrAssembly</td><td><div class=\"dni-plaintext\"><pre>False</pre></div></td></tr><tr><td>IsPrivate</td><td><div class=\"dni-plaintext\"><pre>True</pre></div></td></tr><tr><td>IsPublic</td><td><div class=\"dni-plaintext\"><pre>False</pre></div></td></tr><tr><td>IsConstructedGenericMethod</td><td><div class=\"dni-plaintext\"><pre>False</pre></div></td></tr><tr><td>CustomAttributes</td><td></td></tr></tbody></table></div></details></td></tr><tr><td>Position</td><td><div class=\"dni-plaintext\"><pre>-1</pre></div></td></tr><tr><td>IsIn</td><td><div class=\"dni-plaintext\"><pre>False</pre></div></td></tr><tr><td>IsLcid</td><td><div class=\"dni-plaintext\"><pre>False</pre></div></td></tr><tr><td>IsOptional</td><td><div class=\"dni-plaintext\"><pre>False</pre></div></td></tr><tr><td>IsOut</td><td><div class=\"dni-plaintext\"><pre>False</pre></div></td></tr><tr><td>IsRetval</td><td><div class=\"dni-plaintext\"><pre>False</pre></div></td></tr><tr><td>CustomAttributes</td><td></td></tr></tbody></table></div></details></td></tr><tr><td>ReturnParameter</td><td><details class=\"dni-treeview\"><summary><span class=\"dni-code-hint\"><code>Void</code></span></summary><div><table><thead><tr></tr></thead><tbody><tr><td>ParameterType</td><td><span><a href=\"https://docs.microsoft.com/dotnet/api/system.void?view=net-7.0\">System.Void</a></span></td></tr><tr><td>Name</td><td><div class=\"dni-plaintext\"><pre>&lt;null&gt;</pre></div></td></tr><tr><td>HasDefaultValue</td><td><div class=\"dni-plaintext\"><pre>True</pre></div></td></tr><tr><td>DefaultValue</td><td><div class=\"dni-plaintext\"><pre>&lt;null&gt;</pre></div></td></tr><tr><td>RawDefaultValue</td><td><div class=\"dni-plaintext\"><pre>&lt;null&gt;</pre></div></td></tr><tr><td>MetadataToken</td><td><div class=\"dni-plaintext\"><pre>134217728</pre></div></td></tr><tr><td>Attributes</td><td><span>None</span></td></tr><tr><td>Member</td><td><details class=\"dni-treeview\"><summary><span class=\"dni-code-hint\"><code>Void MoveNext()</code></span></summary><div><table><thead><tr></tr></thead><tbody><tr><td>Name</td><td>MoveNext</td></tr><tr><td>DeclaringType</td><td><span><a href=\"https://docs.microsoft.com/dotnet/api/microsoft.semantickernel.connectors.ai.openai.azuresdk.clientbase.&lt;runrequestasync>d__19-1?view=net-7.0\">Microsoft.SemanticKernel.Connectors.AI.OpenAI.AzureSdk.ClientBase+&lt;RunRequestAsync&gt;d__19&lt;T&gt;</a></span></td></tr><tr><td>ReflectedType</td><td><span><a href=\"https://docs.microsoft.com/dotnet/api/microsoft.semantickernel.connectors.ai.openai.azuresdk.clientbase.&lt;runrequestasync>d__19-1?view=net-7.0\">Microsoft.SemanticKernel.Connectors.AI.OpenAI.AzureSdk.ClientBase+&lt;RunRequestAsync&gt;d__19&lt;T&gt;</a></span></td></tr><tr><td>MemberType</td><td><span>Method</span></td></tr><tr><td>MetadataToken</td><td><div class=\"dni-plaintext\"><pre>100663555</pre></div></td></tr><tr><td>Module</td><td><details class=\"dni-treeview\"><summary><span class=\"dni-code-hint\"><code>Microsoft.SemanticKernel.Connectors.AI.OpenAI.dll</code></span></summary><div><table><thead><tr></tr></thead><tbody><tr><td>MDStreamVersion</td><td>131072</td></tr><tr><td>FullyQualifiedName</td><td>C:\\Users\\taehokim\\.nuget\\packages\\microsoft.semantickernel.connectors.ai.openai\\0.14.547.1-preview\\lib\\netstandard2.0\\Microsoft.SemanticKernel.Connectors.AI.OpenAI.dll</td></tr><tr><td>ModuleVersionId</td><td>470c1783-16b8-4b57-8594-0eb4b3a48c07</td></tr><tr><td>MetadataToken</td><td>1</td></tr><tr><td>ScopeName</td><td>Microsoft.SemanticKernel.Connectors.AI.OpenAI.dll</td></tr><tr><td>Name</td><td>Microsoft.SemanticKernel.Connectors.AI.OpenAI.dll</td></tr><tr><td>Assembly</td><td>Microsoft.SemanticKernel.Connectors.AI.OpenAI, Version=0.14.547.1, Culture=neutral, PublicKeyToken=null</td></tr><tr><td>ModuleHandle</td><td>System.ModuleHandle</td></tr><tr><td>CustomAttributes</td><td>[ [System.Security.UnverifiableCodeAttribute()] ]</td></tr></tbody></table></div></details></td></tr><tr><td>IsSecurityCritical</td><td><div class=\"dni-plaintext\"><pre>True</pre></div></td></tr><tr><td>IsSecuritySafeCritical</td><td><div class=\"dni-plaintext\"><pre>False</pre></div></td></tr><tr><td>IsSecurityTransparent</td><td><div class=\"dni-plaintext\"><pre>False</pre></div></td></tr><tr><td>MethodHandle</td><td><details class=\"dni-treeview\"><summary><span class=\"dni-code-hint\"><code>System.RuntimeMethodHandle</code></span></summary><div><table><thead><tr></tr></thead><tbody><tr><td>Value</td><td>140706057061784</td></tr></tbody></table></div></details></td></tr><tr><td>Attributes</td><td><span>PrivateScope, Private, Final, Virtual, HideBySig, VtableLayoutMask</span></td></tr><tr><td>CallingConvention</td><td><span>Standard, HasThis</span></td></tr><tr><td>ReturnType</td><td><span><a href=\"https://docs.microsoft.com/dotnet/api/system.void?view=net-7.0\">System.Void</a></span></td></tr><tr><td>ReturnTypeCustomAttributes</td><td><details class=\"dni-treeview\"><summary><span class=\"dni-code-hint\"><code>Void</code></span></summary><div><table><thead><tr></tr></thead><tbody><tr><td>ParameterType</td><td>System.Void</td></tr><tr><td>Name</td><td><div class=\"dni-plaintext\"><pre>&lt;null&gt;</pre></div></td></tr><tr><td>HasDefaultValue</td><td>True</td></tr><tr><td>DefaultValue</td><td><div class=\"dni-plaintext\"><pre>&lt;null&gt;</pre></div></td></tr><tr><td>RawDefaultValue</td><td><div class=\"dni-plaintext\"><pre>&lt;null&gt;</pre></div></td></tr><tr><td>MetadataToken</td><td>134217728</td></tr><tr><td>Attributes</td><td>None</td></tr><tr><td>Member</td><td>Void MoveNext()</td></tr><tr><td>Position</td><td>-1</td></tr><tr><td>IsIn</td><td>False</td></tr><tr><td>IsLcid</td><td>False</td></tr><tr><td>IsOptional</td><td>False</td></tr><tr><td>IsOut</td><td>False</td></tr><tr><td>IsRetval</td><td>False</td></tr><tr><td>CustomAttributes</td><td></td></tr></tbody></table></div></details></td></tr><tr><td>ReturnParameter</td><td><details class=\"dni-treeview\"><summary><span class=\"dni-code-hint\"><code>Void</code></span></summary><div><table><thead><tr></tr></thead><tbody><tr><td>ParameterType</td><td>System.Void</td></tr><tr><td>Name</td><td><div class=\"dni-plaintext\"><pre>&lt;null&gt;</pre></div></td></tr><tr><td>HasDefaultValue</td><td>True</td></tr><tr><td>DefaultValue</td><td><div class=\"dni-plaintext\"><pre>&lt;null&gt;</pre></div></td></tr><tr><td>RawDefaultValue</td><td><div class=\"dni-plaintext\"><pre>&lt;null&gt;</pre></div></td></tr><tr><td>MetadataToken</td><td>134217728</td></tr><tr><td>Attributes</td><td>None</td></tr><tr><td>Member</td><td>Void MoveNext()</td></tr><tr><td>Position</td><td>-1</td></tr><tr><td>IsIn</td><td>False</td></tr><tr><td>IsLcid</td><td>False</td></tr><tr><td>IsOptional</td><td>False</td></tr><tr><td>IsOut</td><td>False</td></tr><tr><td>IsRetval</td><td>False</td></tr><tr><td>CustomAttributes</td><td></td></tr></tbody></table></div></details></td></tr><tr><td>IsCollectible</td><td><div class=\"dni-plaintext\"><pre>False</pre></div></td></tr><tr><td>IsGenericMethod</td><td><div class=\"dni-plaintext\"><pre>False</pre></div></td></tr><tr><td>IsGenericMethodDefinition</td><td><div class=\"dni-plaintext\"><pre>False</pre></div></td></tr><tr><td>ContainsGenericParameters</td><td><div class=\"dni-plaintext\"><pre>True</pre></div></td></tr><tr><td>MethodImplementationFlags</td><td><span>IL</span></td></tr><tr><td>IsAbstract</td><td><div class=\"dni-plaintext\"><pre>False</pre></div></td></tr><tr><td>IsConstructor</td><td><div class=\"dni-plaintext\"><pre>False</pre></div></td></tr><tr><td>IsFinal</td><td><div class=\"dni-plaintext\"><pre>True</pre></div></td></tr><tr><td>IsHideBySig</td><td><div class=\"dni-plaintext\"><pre>True</pre></div></td></tr><tr><td>IsSpecialName</td><td><div class=\"dni-plaintext\"><pre>False</pre></div></td></tr><tr><td>IsStatic</td><td><div class=\"dni-plaintext\"><pre>False</pre></div></td></tr><tr><td>IsVirtual</td><td><div class=\"dni-plaintext\"><pre>True</pre></div></td></tr><tr><td>IsAssembly</td><td><div class=\"dni-plaintext\"><pre>False</pre></div></td></tr><tr><td>IsFamily</td><td><div class=\"dni-plaintext\"><pre>False</pre></div></td></tr><tr><td>IsFamilyAndAssembly</td><td><div class=\"dni-plaintext\"><pre>False</pre></div></td></tr><tr><td>IsFamilyOrAssembly</td><td><div class=\"dni-plaintext\"><pre>False</pre></div></td></tr><tr><td>IsPrivate</td><td><div class=\"dni-plaintext\"><pre>True</pre></div></td></tr><tr><td>IsPublic</td><td><div class=\"dni-plaintext\"><pre>False</pre></div></td></tr><tr><td>IsConstructedGenericMethod</td><td><div class=\"dni-plaintext\"><pre>False</pre></div></td></tr><tr><td>CustomAttributes</td><td></td></tr></tbody></table></div></details></td></tr><tr><td>Position</td><td><div class=\"dni-plaintext\"><pre>-1</pre></div></td></tr><tr><td>IsIn</td><td><div class=\"dni-plaintext\"><pre>False</pre></div></td></tr><tr><td>IsLcid</td><td><div class=\"dni-plaintext\"><pre>False</pre></div></td></tr><tr><td>IsOptional</td><td><div class=\"dni-plaintext\"><pre>False</pre></div></td></tr><tr><td>IsOut</td><td><div class=\"dni-plaintext\"><pre>False</pre></div></td></tr><tr><td>IsRetval</td><td><div class=\"dni-plaintext\"><pre>False</pre></div></td></tr><tr><td>CustomAttributes</td><td></td></tr></tbody></table></div></details></td></tr><tr><td>IsCollectible</td><td><div class=\"dni-plaintext\"><pre>False</pre></div></td></tr><tr><td>IsGenericMethod</td><td><div class=\"dni-plaintext\"><pre>False</pre></div></td></tr><tr><td>IsGenericMethodDefinition</td><td><div class=\"dni-plaintext\"><pre>False</pre></div></td></tr><tr><td>ContainsGenericParameters</td><td><div class=\"dni-plaintext\"><pre>True</pre></div></td></tr><tr><td>MethodImplementationFlags</td><td><span>IL</span></td></tr><tr><td>IsAbstract</td><td><div class=\"dni-plaintext\"><pre>False</pre></div></td></tr><tr><td>IsConstructor</td><td><div class=\"dni-plaintext\"><pre>False</pre></div></td></tr><tr><td>IsFinal</td><td><div class=\"dni-plaintext\"><pre>True</pre></div></td></tr><tr><td>IsHideBySig</td><td><div class=\"dni-plaintext\"><pre>True</pre></div></td></tr><tr><td>IsSpecialName</td><td><div class=\"dni-plaintext\"><pre>False</pre></div></td></tr><tr><td>IsStatic</td><td><div class=\"dni-plaintext\"><pre>False</pre></div></td></tr><tr><td>IsVirtual</td><td><div class=\"dni-plaintext\"><pre>True</pre></div></td></tr><tr><td>IsAssembly</td><td><div class=\"dni-plaintext\"><pre>False</pre></div></td></tr><tr><td>IsFamily</td><td><div class=\"dni-plaintext\"><pre>False</pre></div></td></tr><tr><td>IsFamilyAndAssembly</td><td><div class=\"dni-plaintext\"><pre>False</pre></div></td></tr><tr><td>IsFamilyOrAssembly</td><td><div class=\"dni-plaintext\"><pre>False</pre></div></td></tr><tr><td>IsPrivate</td><td><div class=\"dni-plaintext\"><pre>True</pre></div></td></tr><tr><td>IsPublic</td><td><div class=\"dni-plaintext\"><pre>False</pre></div></td></tr><tr><td>IsConstructedGenericMethod</td><td><div class=\"dni-plaintext\"><pre>False</pre></div></td></tr><tr><td>CustomAttributes</td><td></td></tr></tbody></table></div></details></td></tr><tr><td>Message</td><td>Invalid request: The request is not valid, HTTP status: 400</td></tr><tr><td>Data</td><td><i>(empty)</i></td></tr><tr><td>InnerException</td><td><div class=\"dni-plaintext\"><pre>&lt;null&gt;</pre></div></td></tr><tr><td>HelpLink</td><td><div class=\"dni-plaintext\"><pre>&lt;null&gt;</pre></div></td></tr><tr><td>Source</td><td>Microsoft.SemanticKernel.Connectors.AI.OpenAI</td></tr><tr><td>HResult</td><td><div class=\"dni-plaintext\"><pre>-2146233088</pre></div></td></tr><tr><td>StackTrace</td><td>   at Microsoft.SemanticKernel.Connectors.AI.OpenAI.AzureSdk.ClientBase.RunRequestAsync[T](Func`1 request)\r\n",
       "   at Microsoft.SemanticKernel.Connectors.AI.OpenAI.AzureSdk.ClientBase.InternalCompleteTextAsync(String text, CompleteRequestSettings requestSettings, CancellationToken cancellationToken)\r\n",
       "   at Microsoft.SemanticKernel.SkillDefinition.SKFunction.&lt;&gt;c__DisplayClass19_0.&lt;&lt;FromSemanticConfig&gt;g__LocalFunc|0&gt;d.MoveNext()</td></tr></tbody></table></div></details></td></tr><tr><td>CancellationToken</td><td><details class=\"dni-treeview\"><summary><span class=\"dni-code-hint\"><code>System.Threading.CancellationToken</code></span></summary><div><table><thead><tr></tr></thead><tbody><tr><td>IsCancellationRequested</td><td><div class=\"dni-plaintext\"><pre>False</pre></div></td></tr><tr><td>CanBeCanceled</td><td><div class=\"dni-plaintext\"><pre>False</pre></div></td></tr><tr><td>WaitHandle</td><td><details class=\"dni-treeview\"><summary><span class=\"dni-code-hint\"><code>System.Threading.ManualResetEvent</code></span></summary><div><table><thead><tr></tr></thead><tbody><tr><td>Handle</td><td><div class=\"dni-plaintext\"><pre>3156</pre></div></td></tr><tr><td>SafeWaitHandle</td><td><details class=\"dni-treeview\"><summary><span class=\"dni-code-hint\"><code>Microsoft.Win32.SafeHandles.SafeWaitHandle</code></span></summary><div><table><thead><tr></tr></thead><tbody><tr><td>IsInvalid</td><td><div class=\"dni-plaintext\"><pre>False</pre></div></td></tr><tr><td>IsClosed</td><td><div class=\"dni-plaintext\"><pre>False</pre></div></td></tr></tbody></table></div></details></td></tr></tbody></table></div></details></td></tr></tbody></table></div></details></td></tr><tr><td>Variables</td><td><table><thead><tr><th><i>index</i></th><th>value</th></tr></thead><tbody><tr><td>0</td><td><details class=\"dni-treeview\"><summary><span class=\"dni-code-hint\"><code>[externalInformation, ]</code></span></summary><div><table><thead><tr></tr></thead><tbody><tr><td>Key</td><td>externalInformation</td></tr><tr><td>Value</td><td></td></tr></tbody></table></div></details></td></tr><tr><td>1</td><td><details class=\"dni-treeview\"><summary><span class=\"dni-code-hint\"><code>[INPUT, What's the exchange rate EUR:USD?]</code></span></summary><div><table><thead><tr></tr></thead><tbody><tr><td>Key</td><td>INPUT</td></tr><tr><td>Value</td><td>What&#39;s the exchange rate EUR:USD?</td></tr></tbody></table></div></details></td></tr></tbody></table></td></tr><tr><td>Memory</td><td><details class=\"dni-treeview\"><summary><span class=\"dni-code-hint\"><code>Microsoft.SemanticKernel.Memory.NullMemory</code></span></summary><div><table><thead><tr></tr></thead><tbody></tbody></table></div></details></td></tr><tr><td>Skills</td><td><details class=\"dni-treeview\"><summary><span class=\"dni-code-hint\"><code>Microsoft.SemanticKernel.SkillDefinition.ReadOnlySkillCollection</code></span></summary><div><table><thead><tr></tr></thead><tbody></tbody></table></div></details></td></tr><tr><td>Log</td><td><details class=\"dni-treeview\"><summary><span class=\"dni-code-hint\"><code>Microsoft.Extensions.Logging.Abstractions.NullLogger</code></span></summary><div><table><thead><tr></tr></thead><tbody></tbody></table></div></details></td></tr></tbody></table></div></details><style>\r\n",
       ".dni-code-hint {\r\n",
       "    font-style: italic;\r\n",
       "    overflow: hidden;\r\n",
       "    white-space: nowrap;\r\n",
       "}\r\n",
       ".dni-treeview {\r\n",
       "    white-space: nowrap;\r\n",
       "}\r\n",
       ".dni-treeview td {\r\n",
       "    vertical-align: top;\r\n",
       "    text-align: start;\r\n",
       "}\r\n",
       "details.dni-treeview {\r\n",
       "    padding-left: 1em;\r\n",
       "}\r\n",
       "table td {\r\n",
       "    text-align: start;\r\n",
       "}\r\n",
       "table tr { \r\n",
       "    vertical-align: top; \r\n",
       "    margin: 0em 0px;\r\n",
       "}\r\n",
       "table tr td pre \r\n",
       "{ \r\n",
       "    vertical-align: top !important; \r\n",
       "    margin: 0em 0px !important;\r\n",
       "} \r\n",
       "table th {\r\n",
       "    text-align: start;\r\n",
       "}\r\n",
       "</style>"
      ]
     },
     "metadata": {},
     "output_type": "display_data"
    }
   ],
   "source": [
    "answer"
   ]
  },
  {
   "attachments": {},
   "cell_type": "markdown",
   "metadata": {},
   "source": [
    "- Troubleshooting: ChatGPT shoud use \"AddAzureChatCompletionService\"."
   ]
  },
  {
   "cell_type": "code",
   "execution_count": 144,
   "metadata": {
    "dotnet_interactive": {
     "language": "csharp"
    },
    "polyglot_notebook": {
     "kernelName": "csharp"
    }
   },
   "outputs": [
    {
     "data": {
      "text/html": [
       "<span><a href=\"https://docs.microsoft.com/dotnet/api/microsoft.semantickernel.orchestration.skcontext?view=net-7.0\">Microsoft.SemanticKernel.Orchestration.SKContext</a></span>"
      ]
     },
     "metadata": {},
     "output_type": "display_data"
    }
   ],
   "source": [
    "answer.GetType()"
   ]
  },
  {
   "cell_type": "code",
   "execution_count": 145,
   "metadata": {
    "dotnet_interactive": {
     "language": "csharp"
    },
    "polyglot_notebook": {
     "kernelName": "csharp"
    }
   },
   "outputs": [
    {
     "name": "stdout",
     "output_type": "stream",
     "text": [
      "True\r\n"
     ]
    }
   ],
   "source": [
    "Console.WriteLine(answer.ErrorOccurred);"
   ]
  },
  {
   "cell_type": "code",
   "execution_count": 146,
   "metadata": {
    "dotnet_interactive": {
     "language": "csharp"
    },
    "polyglot_notebook": {
     "kernelName": "csharp"
    }
   },
   "outputs": [
    {
     "data": {
      "text/plain": [
       "What's the exchange rate EUR:USD?"
      ]
     },
     "metadata": {},
     "output_type": "display_data"
    }
   ],
   "source": [
    "answer.Result"
   ]
  },
  {
   "cell_type": "code",
   "execution_count": 147,
   "metadata": {
    "dotnet_interactive": {
     "language": "csharp"
    },
    "polyglot_notebook": {
     "kernelName": "csharp"
    }
   },
   "outputs": [
    {
     "name": "stdout",
     "output_type": "stream",
     "text": [
      "Error: Something was wrong...\r\n"
     ]
    }
   ],
   "source": [
    "\n",
    "if (answer.ErrorOccurred) {\n",
    "    Console.WriteLine(\"Error: Something was wrong...\");\n",
    "} else {\n",
    "    if (answer.Result.Contains(\"bing.search\", StringComparison.OrdinalIgnoreCase))\n",
    "    {\n",
    "        var promptRenderer = new PromptTemplateEngine();\n",
    "\n",
    "        Console.WriteLine(\"---- Fetching information from Bing...\");\n",
    "        var information = await promptRenderer.RenderAsync(answer.Result, context);\n",
    "\n",
    "        Console.WriteLine(\"Information found:\");\n",
    "        Console.WriteLine(information);\n",
    "\n",
    "        // The rendered prompt contains the information retrieved from search engines\n",
    "        context[\"externalInformation\"] = information;\n",
    "\n",
    "        // Run the semantic function again, now including information from Bing\n",
    "        context.Variables.Update(questions);\n",
    "        answer = await oracle.InvokeAsync(context);\n",
    "    }\n",
    "    else\n",
    "    {\n",
    "        Console.WriteLine(\"AI had all the information, no need to query Bing.\");\n",
    "    }\n",
    "\n",
    "    Console.WriteLine(\"---- ANSWER:\");\n",
    "    Console.WriteLine(answer);\n",
    "}"
   ]
  },
  {
   "attachments": {},
   "cell_type": "markdown",
   "metadata": {},
   "source": [
    "**Next Steps**: You know the basics, let's try this in a sample app so you can learn the core concepts!\n",
    "\n",
    "Sample app learning examples:\n",
    "- [Simple chat summary](../../apps/chat-summary-webapp-react/README.md) (**Recommended**) – learn how basic semantic functions can be added to an app\n",
    "- [Book creator](../../apps/book-creator-webapp-react/README.md) – learn how Planner and chaining of semantic functions can be used in your app\n",
    "- [Authentication and APIs](../../dotnet/graph-api-skills/README.md) – learn how to connect to external API's with authentication while using Semantic Kernel\n",
    "- [GitHub repository Q&A](../../apps/github-qna-webapp-react/README.md) - Use embeddings and memory to store and query your data\n",
    "- [Copilot Chat](../../apps/copilot-chat-app/README.md) – Build your own chatbot based on Semantic Kernel"
   ]
  }
 ],
 "metadata": {
  "kernelspec": {
   "display_name": ".NET (C#)",
   "language": "C#",
   "name": ".net-csharp"
  },
  "language_info": {
   "name": "polyglot-notebook"
  },
  "polyglot_notebook": {
   "kernelInfo": {
    "defaultKernelName": "csharp",
    "items": [
     {
      "aliases": [],
      "name": "csharp"
     }
    ]
   }
  }
 },
 "nbformat": 4,
 "nbformat_minor": 2
}
