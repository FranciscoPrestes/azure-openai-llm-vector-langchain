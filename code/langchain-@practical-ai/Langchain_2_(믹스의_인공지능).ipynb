{
  "nbformat": 4,
  "nbformat_minor": 0,
  "metadata": {
    "colab": {
      "provenance": []
    },
    "kernelspec": {
      "name": "python3",
      "display_name": "Python 3"
    },
    "language_info": {
      "name": "python"
    },
    "gpuClass": "standard"
  },
  "cells": [
    {
      "cell_type": "markdown",
      "source": [
        "# LangChain #2 - 개발에 도움이 되는 정보\n",
        "\n",
        "* API 사용금액 조회\n",
        "* 한글 Summarization\n",
        "* Python 객체와 친해지기\n",
        "* PromptLayer 서비스\n",
        "---\n",
        "참고 자료:\n",
        "* 파이썬 문서: https://python.langchain.com/en/latest/index.html\n",
        "* 개념 문서: https://docs.langchain.com/docs/\n",
        "* 소스: https://github.com/hwchase17/langchain\n",
        "---"
      ],
      "metadata": {
        "id": "tXNJbsfQExSI"
      }
    },
    {
      "cell_type": "code",
      "execution_count": null,
      "metadata": {
        "id": "MeRu2hV6sCyv",
        "colab": {
          "base_uri": "https://localhost:8080/"
        },
        "outputId": "a4378706-16a6-4c85-d6be-d4fc40145898"
      },
      "outputs": [
        {
          "output_type": "stream",
          "name": "stdout",
          "text": [
            "\u001b[2K     \u001b[90m━━━━━━━━━━━━━━━━━━━━━━━━━━━━━━━━━━━━━━━━\u001b[0m \u001b[32m70.3/70.3 kB\u001b[0m \u001b[31m2.5 MB/s\u001b[0m eta \u001b[36m0:00:00\u001b[0m\n",
            "\u001b[2K     \u001b[90m━━━━━━━━━━━━━━━━━━━━━━━━━━━━━━━━━━━━━━━━\u001b[0m \u001b[32m1.0/1.0 MB\u001b[0m \u001b[31m18.0 MB/s\u001b[0m eta \u001b[36m0:00:00\u001b[0m\n",
            "\u001b[2K     \u001b[90m━━━━━━━━━━━━━━━━━━━━━━━━━━━━━━━━━━━━━━━\u001b[0m \u001b[32m158.8/158.8 kB\u001b[0m \u001b[31m7.8 MB/s\u001b[0m eta \u001b[36m0:00:00\u001b[0m\n",
            "\u001b[2K     \u001b[90m━━━━━━━━━━━━━━━━━━━━━━━━━━━━━━━━━━━━━━━\u001b[0m \u001b[32m114.2/114.2 kB\u001b[0m \u001b[31m2.2 MB/s\u001b[0m eta \u001b[36m0:00:00\u001b[0m\n",
            "\u001b[2K     \u001b[90m━━━━━━━━━━━━━━━━━━━━━━━━━━━━━━━━━━━━━━\u001b[0m \u001b[32m269.3/269.3 kB\u001b[0m \u001b[31m11.6 MB/s\u001b[0m eta \u001b[36m0:00:00\u001b[0m\n",
            "\u001b[2K     \u001b[90m━━━━━━━━━━━━━━━━━━━━━━━━━━━━━━━━━━━━━━\u001b[0m \u001b[32m626.5/626.5 kB\u001b[0m \u001b[31m14.0 MB/s\u001b[0m eta \u001b[36m0:00:00\u001b[0m\n",
            "\u001b[2K     \u001b[90m━━━━━━━━━━━━━━━━━━━━━━━━━━━━━━━━━━━━━━━━\u001b[0m \u001b[32m1.6/1.6 MB\u001b[0m \u001b[31m57.4 MB/s\u001b[0m eta \u001b[36m0:00:00\u001b[0m\n",
            "\u001b[2K     \u001b[90m━━━━━━━━━━━━━━━━━━━━━━━━━━━━━━━━━━━━━━━━\u001b[0m \u001b[32m90.0/90.0 kB\u001b[0m \u001b[31m10.0 MB/s\u001b[0m eta \u001b[36m0:00:00\u001b[0m\n",
            "\u001b[2K     \u001b[90m━━━━━━━━━━━━━━━━━━━━━━━━━━━━━━━━━━━━━━━━\u001b[0m \u001b[32m49.1/49.1 kB\u001b[0m \u001b[31m3.5 MB/s\u001b[0m eta \u001b[36m0:00:00\u001b[0m\n",
            "\u001b[?25h"
          ]
        }
      ],
      "source": [
        "#@title 기본 패키지(openai, langchain) 설치\n",
        "!pip install -q openai\n",
        "!pip install -q langchain"
      ]
    },
    {
      "cell_type": "code",
      "source": [
        "#@title 기타 패키지 설치 (구글검색, 위키피디아, VectorStore, HuggingFace Embedding)\n",
        "!pip install -q google-search-results\n",
        "!pip install -q wikipedia\n",
        "!pip install -q faiss-cpu # 오픈소스 벡터DB (Facebook, MIT license)\n",
        "!pip install -q sentence_transformers # HuggingFace Embedding 사용 위해서 필요\n",
        "!pip install -q tiktoken # Summarization 할때 필요\n",
        "!pip install -q promptlayer # openai API 조회 서비스"
      ],
      "metadata": {
        "id": "bz4Q7yF1-gZu",
        "colab": {
          "base_uri": "https://localhost:8080/"
        },
        "outputId": "9ba09414-7c9b-48e1-9e84-eae96b134261"
      },
      "execution_count": null,
      "outputs": [
        {
          "output_type": "stream",
          "name": "stdout",
          "text": [
            "  Preparing metadata (setup.py) ... \u001b[?25l\u001b[?25hdone\n",
            "  Building wheel for google-search-results (setup.py) ... \u001b[?25l\u001b[?25hdone\n",
            "  Preparing metadata (setup.py) ... \u001b[?25l\u001b[?25hdone\n",
            "  Building wheel for wikipedia (setup.py) ... \u001b[?25l\u001b[?25hdone\n",
            "\u001b[2K     \u001b[90m━━━━━━━━━━━━━━━━━━━━━━━━━━━━━━━━━━━━━━━━\u001b[0m \u001b[32m17.6/17.6 MB\u001b[0m \u001b[31m73.4 MB/s\u001b[0m eta \u001b[36m0:00:00\u001b[0m\n",
            "\u001b[2K     \u001b[90m━━━━━━━━━━━━━━━━━━━━━━━━━━━━━━━━━━━━━━━━\u001b[0m \u001b[32m86.0/86.0 kB\u001b[0m \u001b[31m4.9 MB/s\u001b[0m eta \u001b[36m0:00:00\u001b[0m\n",
            "\u001b[?25h  Preparing metadata (setup.py) ... \u001b[?25l\u001b[?25hdone\n",
            "\u001b[2K     \u001b[90m━━━━━━━━━━━━━━━━━━━━━━━━━━━━━━━━━━━━━━━━\u001b[0m \u001b[32m7.0/7.0 MB\u001b[0m \u001b[31m62.1 MB/s\u001b[0m eta \u001b[36m0:00:00\u001b[0m\n",
            "\u001b[2K     \u001b[90m━━━━━━━━━━━━━━━━━━━━━━━━━━━━━━━━━━━━━━━━\u001b[0m \u001b[32m1.3/1.3 MB\u001b[0m \u001b[31m56.7 MB/s\u001b[0m eta \u001b[36m0:00:00\u001b[0m\n",
            "\u001b[2K     \u001b[90m━━━━━━━━━━━━━━━━━━━━━━━━━━━━━━━━━━━━━━\u001b[0m \u001b[32m200.1/200.1 kB\u001b[0m \u001b[31m21.4 MB/s\u001b[0m eta \u001b[36m0:00:00\u001b[0m\n",
            "\u001b[2K     \u001b[90m━━━━━━━━━━━━━━━━━━━━━━━━━━━━━━━━━━━━━━━━\u001b[0m \u001b[32m7.8/7.8 MB\u001b[0m \u001b[31m76.6 MB/s\u001b[0m eta \u001b[36m0:00:00\u001b[0m\n",
            "\u001b[?25h  Building wheel for sentence_transformers (setup.py) ... \u001b[?25l\u001b[?25hdone\n",
            "\u001b[2K     \u001b[90m━━━━━━━━━━━━━━━━━━━━━━━━━━━━━━━━━━━━━━━━\u001b[0m \u001b[32m1.7/1.7 MB\u001b[0m \u001b[31m17.7 MB/s\u001b[0m eta \u001b[36m0:00:00\u001b[0m\n",
            "\u001b[?25h  Preparing metadata (setup.py) ... \u001b[?25l\u001b[?25hdone\n",
            "  Building wheel for promptlayer (setup.py) ... \u001b[?25l\u001b[?25hdone\n"
          ]
        }
      ]
    },
    {
      "cell_type": "code",
      "source": [
        "import os\n",
        "#@markdown https://platform.openai.com/account/api-keys\n",
        "OPENAI_API_KEY = \"\" #@param {type:\"string\"}\n",
        "\n",
        "# #@markdown https://huggingface.co/settings/tokens\n",
        "# #@markdown HuggingFace에서 모델 다운로드나 클라우드 모델 사용하기 위해서 필요 (무료)\n",
        "# HUGGINGFACEHUB_API_TOKEN = \"\" #@param {type:\"string\"}\n",
        "\n",
        "# #@markdown https://serpapi.com/manage-api-key\n",
        "# #@markdown 구글 검색하기 위해서 필요 (월 100회 무료)\n",
        "# SERPAPI_API_KEY = \"\" #@param {type:\"string\"}\n",
        "\n",
        "#@markdown https://promptlayer.com/\n",
        "#@markdown OpenAI API/프롬프트를 내역을 로그로 남기는 서비스\n",
        "PROMPTLAYER_API_KEY = \"\" #@param {type:\"string\"}\n",
        "\n",
        "os.environ[\"OPENAI_API_KEY\"] = OPENAI_API_KEY\n",
        "# os.environ[\"HUGGINGFACEHUB_API_TOKEN\"] = HUGGINGFACEHUB_API_TOKEN\n",
        "# os.environ[\"SERPAPI_API_KEY\"] = SERPAPI_API_KEY\n",
        "os.environ[\"PROMPTLAYER_API_KEY\"] = PROMPTLAYER_API_KEY\n"
      ],
      "metadata": {
        "id": "XRO6i4Myseen"
      },
      "execution_count": null,
      "outputs": []
    },
    {
      "cell_type": "code",
      "source": [
        "#@title 1. API 사용 금액 조회\n",
        "\n",
        "from langchain.llms import OpenAI\n",
        "from langchain.callbacks import get_openai_callback\n",
        "\n",
        "chat = OpenAI(model_name='gpt-3.5-turbo')\n",
        "\n",
        "\n",
        "# chat(\"1980년대 메탈 음악 5곡 추천해줘.\")\n",
        "with get_openai_callback() as cb:\n",
        "\n",
        "  result = chat(\"1980년대 메탈 음악 5곡 추천해줘.\")\n",
        "\n",
        "  print(f\"Total Tokens: {cb.total_tokens}\")\n",
        "  print(f\"Prompt Tokens: {cb.prompt_tokens}\")\n",
        "  print(f\"Completion Tokens: {cb.completion_tokens}\")\n",
        "  print(f\"Total Cost (USD): ${cb.total_cost}\")\n",
        "  print(cb)\n",
        "\n",
        "result"
      ],
      "metadata": {
        "colab": {
          "base_uri": "https://localhost:8080/",
          "height": 306
        },
        "id": "ehsRu_vXjFQP",
        "outputId": "3ac6cbca-d1f1-497d-b105-a2bb331abc20"
      },
      "execution_count": null,
      "outputs": [
        {
          "output_type": "stream",
          "name": "stderr",
          "text": [
            "/usr/local/lib/python3.9/dist-packages/langchain/llms/openai.py:165: UserWarning: You are trying to use a chat model. This way of initializing it is no longer supported. Instead, please use: `from langchain.chat_models import ChatOpenAI`\n",
            "  warnings.warn(\n",
            "/usr/local/lib/python3.9/dist-packages/langchain/llms/openai.py:672: UserWarning: You are trying to use a chat model. This way of initializing it is no longer supported. Instead, please use: `from langchain.chat_models import ChatOpenAI`\n",
            "  warnings.warn(\n"
          ]
        },
        {
          "output_type": "stream",
          "name": "stdout",
          "text": [
            "Total Tokens: 92\n",
            "Prompt Tokens: 31\n",
            "Completion Tokens: 61\n",
            "Total Cost (USD): $0.000184\n",
            "Tokens Used: 92\n",
            "\tPrompt Tokens: 31\n",
            "\tCompletion Tokens: 61\n",
            "Successful Requests: 1\n",
            "Total Cost (USD): $0.000184\n"
          ]
        },
        {
          "output_type": "execute_result",
          "data": {
            "text/plain": [
              "'1. \"Master of Puppets\" - Metallica\\n2. \"Crazy Train\" - Ozzy Osbourne\\n3. \"Thunderstruck\" - AC/DC\\n4. \"Peace Sells\" - Megadeth\\n5. \"Heaven and Hell\" - Black Sabbath'"
            ],
            "application/vnd.google.colaboratory.intrinsic+json": {
              "type": "string"
            }
          },
          "metadata": {},
          "execution_count": 4
        }
      ]
    },
    {
      "cell_type": "code",
      "source": [
        "from langchain.chat_models import ChatOpenAI\n",
        "from langchain.schema import (\n",
        "    AIMessage,\n",
        "    HumanMessage,\n",
        "    SystemMessage\n",
        ")\n",
        "\n",
        "chat = ChatOpenAI()\n",
        "\n",
        "with get_openai_callback() as cb:\n",
        "  result = chat([HumanMessage(content=\"1990년대 메탈 음악 5곡 추천해줘.\")])\n",
        "  print(cb)\n",
        "result"
      ],
      "metadata": {
        "colab": {
          "base_uri": "https://localhost:8080/"
        },
        "id": "3scdP29MmA-o",
        "outputId": "d77ba4ad-a699-4b0b-92c3-500289e67f34"
      },
      "execution_count": null,
      "outputs": [
        {
          "output_type": "stream",
          "name": "stdout",
          "text": [
            "Tokens Used: 0\n",
            "\tPrompt Tokens: 0\n",
            "\tCompletion Tokens: 0\n",
            "Successful Requests: 0\n",
            "Total Cost (USD): $0.0\n"
          ]
        },
        {
          "output_type": "execute_result",
          "data": {
            "text/plain": [
              "AIMessage(content='1. Metallica - \"Enter Sandman\"\\n2. Pantera - \"Walk\"\\n3. Nirvana - \"Smells Like Teen Spirit\"\\n4. Guns N\\' Roses - \"November Rain\"\\n5. Iron Maiden - \"Fear of the Dark\"', additional_kwargs={})"
            ]
          },
          "metadata": {},
          "execution_count": 5
        }
      ]
    },
    {
      "cell_type": "code",
      "source": [
        "from langchain.chains import LLMChain\n",
        "from langchain.prompts import PromptTemplate\n",
        "\n",
        "chain = LLMChain(llm=chat, prompt=PromptTemplate(input_variables=[\"text\"], template=\"{text}\"))\n",
        "\n",
        "\n",
        "with get_openai_callback() as cb:\n",
        "  result = chain.run(\"2000년대 메탈 음악 5곡 추천해줘.\")\n",
        "  print(cb)\n",
        "result"
      ],
      "metadata": {
        "colab": {
          "base_uri": "https://localhost:8080/",
          "height": 143
        },
        "id": "poFoxqwAnYm8",
        "outputId": "1dde1405-1521-438c-f5a3-42a0fb728c37"
      },
      "execution_count": null,
      "outputs": [
        {
          "output_type": "stream",
          "name": "stdout",
          "text": [
            "Tokens Used: 85\n",
            "\tPrompt Tokens: 31\n",
            "\tCompletion Tokens: 54\n",
            "Successful Requests: 1\n",
            "Total Cost (USD): $0.00017\n"
          ]
        },
        {
          "output_type": "execute_result",
          "data": {
            "text/plain": [
              "'1. Slipknot - Wait and Bleed\\n2. Avenged Sevenfold - Bat Country\\n3. Disturbed - Down with the Sickness\\n4. System of a Down - Chop Suey!\\n5. Lamb of God - Laid to Rest'"
            ],
            "application/vnd.google.colaboratory.intrinsic+json": {
              "type": "string"
            }
          },
          "metadata": {},
          "execution_count": 6
        }
      ]
    },
    {
      "cell_type": "code",
      "source": [
        "#@title 2. 한글 Summarization\n",
        "\n",
        "from langchain.chat_models import ChatOpenAI\n",
        "\n",
        "chat = ChatOpenAI()\n",
        "\n",
        "from langchain.document_loaders import WebBaseLoader\n",
        "\n",
        "loader = WebBaseLoader(web_path=\"https://ko.wikipedia.org/wiki/NewJeans\")\n",
        "documents = loader.load()"
      ],
      "metadata": {
        "id": "oosXTdrdiqLj"
      },
      "execution_count": null,
      "outputs": []
    },
    {
      "cell_type": "code",
      "source": [
        "from langchain.text_splitter import RecursiveCharacterTextSplitter\n",
        "text_splitter = RecursiveCharacterTextSplitter(chunk_size=1000, chunk_overlap=0)\n",
        "docs = text_splitter.split_documents(documents)\n",
        "len(docs)"
      ],
      "metadata": {
        "colab": {
          "base_uri": "https://localhost:8080/"
        },
        "id": "ufXUmIF6nAyt",
        "outputId": "42ce87c5-5dd6-4c9b-a24e-96dec4f0de5c"
      },
      "execution_count": null,
      "outputs": [
        {
          "output_type": "execute_result",
          "data": {
            "text/plain": [
              "12"
            ]
          },
          "metadata": {},
          "execution_count": 8
        }
      ]
    },
    {
      "cell_type": "code",
      "source": [
        "from langchain.chat_models import ChatOpenAI\n",
        "from langchain.chains.summarize import load_summarize_chain\n",
        "chain = load_summarize_chain(chat, chain_type=\"map_reduce\", verbose=True)"
      ],
      "metadata": {
        "id": "UwJOTOb_nK1n"
      },
      "execution_count": null,
      "outputs": []
    },
    {
      "cell_type": "code",
      "source": [
        "chain.llm_chain.prompt.template"
      ],
      "metadata": {
        "colab": {
          "base_uri": "https://localhost:8080/",
          "height": 36
        },
        "id": "0KB98lYVjQ3c",
        "outputId": "071ef82d-5f3c-4106-8699-08162c2a017e"
      },
      "execution_count": null,
      "outputs": [
        {
          "output_type": "execute_result",
          "data": {
            "text/plain": [
              "'Write a concise summary of the following:\\n\\n\\n\"{text}\"\\n\\n\\nCONCISE SUMMARY:'"
            ],
            "application/vnd.google.colaboratory.intrinsic+json": {
              "type": "string"
            }
          },
          "metadata": {},
          "execution_count": 10
        }
      ]
    },
    {
      "cell_type": "code",
      "source": [
        "chain.llm_chain.prompt.template = chain.llm_chain.prompt.template.replace(\"CONCISE SUMMARY:\", \"CONCISE SUMMARY IN KOREAN:\")"
      ],
      "metadata": {
        "id": "rAxIoGWgjQ1c"
      },
      "execution_count": null,
      "outputs": []
    },
    {
      "cell_type": "code",
      "source": [
        "chain.llm_chain.prompt.template"
      ],
      "metadata": {
        "id": "JNX9VL0dnQYr",
        "colab": {
          "base_uri": "https://localhost:8080/",
          "height": 36
        },
        "outputId": "89a105ed-fb23-4f74-c3dd-01e4b30b70aa"
      },
      "execution_count": null,
      "outputs": [
        {
          "output_type": "execute_result",
          "data": {
            "text/plain": [
              "'Write a concise summary of the following:\\n\\n\\n\"{text}\"\\n\\n\\nCONCISE SUMMARY IN KOREAN:'"
            ],
            "application/vnd.google.colaboratory.intrinsic+json": {
              "type": "string"
            }
          },
          "metadata": {},
          "execution_count": 12
        }
      ]
    },
    {
      "cell_type": "code",
      "source": [
        "with get_openai_callback() as cb:\n",
        "  result = chain.run(docs[:3])\n",
        "  print(cb)\n",
        "result"
      ],
      "metadata": {
        "id": "xtHWcos8jQyo",
        "colab": {
          "base_uri": "https://localhost:8080/",
          "height": 1000
        },
        "outputId": "42c892bc-2abd-4794-bd78-2c9b27958a3c"
      },
      "execution_count": null,
      "outputs": [
        {
          "output_type": "stream",
          "name": "stdout",
          "text": [
            "\n",
            "\n",
            "\u001b[1m> Entering new MapReduceDocumentsChain chain...\u001b[0m\n",
            "Prompt after formatting:\n",
            "\u001b[32;1m\u001b[1;3mWrite a concise summary of the following:\n",
            "\n",
            "\n",
            "\"NewJeans - 위키백과, 우리 모두의 백과사전\n",
            "\n",
            "\n",
            "\n",
            "\n",
            "\n",
            "\n",
            "\n",
            "\n",
            "\n",
            "\n",
            "\n",
            "\n",
            "\n",
            "\n",
            "\n",
            "\n",
            "\n",
            "\n",
            "\n",
            "\n",
            "\n",
            "\n",
            "\n",
            "\n",
            "\n",
            "\n",
            "\n",
            "\n",
            "\n",
            "\n",
            "\n",
            "\n",
            "\n",
            "\n",
            "\n",
            "\n",
            "\n",
            "\n",
            "본문으로 이동\n",
            "\n",
            "\n",
            "\n",
            "\n",
            "\n",
            "\n",
            "\n",
            "\n",
            "주 메뉴\n",
            "\n",
            "\n",
            "\n",
            "\n",
            "\n",
            "주 메뉴\n",
            "사이드바로 이동\n",
            "숨기기\n",
            "\n",
            "\n",
            "\n",
            "\t\t둘러보기\n",
            "\t\n",
            "\n",
            "대문최근 바뀜요즘 화제임의의 문서로기부\n",
            "\n",
            "\n",
            "\n",
            "\n",
            "\t\t사용자 모임\n",
            "\t\n",
            "\n",
            "사랑방사용자 모임관리 요청\n",
            "\n",
            "\n",
            "\n",
            "\n",
            "\t\t편집 안내\n",
            "\t\n",
            "\n",
            "도움말정책과 지침질문방\n",
            "\n",
            "\n",
            "\n",
            "\n",
            "언어\n",
            "\n",
            "이 위키백과에서 언어 링크는 문서 제목 건너편의 문서 최상단에 있습니다. 최상단으로 이동합니다.\n",
            "\n",
            "\n",
            "\n",
            "\n",
            "\n",
            "\n",
            "\n",
            "\n",
            "\n",
            "\n",
            "\n",
            "\n",
            "\n",
            "\n",
            "\n",
            "\n",
            "\n",
            "\n",
            "\n",
            "검색\n",
            "\n",
            "\n",
            "\n",
            "\n",
            "\n",
            "\n",
            "\n",
            "\n",
            "\n",
            "\n",
            "\n",
            "\n",
            "\n",
            "\n",
            "\n",
            "계정 만들기로그인\n",
            "\n",
            "\n",
            "\n",
            "\n",
            "\n",
            "\n",
            "개인 도구\n",
            "\n",
            "\n",
            "\n",
            "\n",
            " 계정 만들기 로그인\n",
            "\n",
            "\n",
            "\n",
            "\n",
            "\t\t로그아웃한 편집자를 위한 문서 더 알아보기\n",
            "\n",
            "\n",
            "기여토론\n",
            "\n",
            "\n",
            "\n",
            "\n",
            "\n",
            "\n",
            "\n",
            "\n",
            "\n",
            "\n",
            "\n",
            "\n",
            "\n",
            "\n",
            "\n",
            "\n",
            "\n",
            "\n",
            "\n",
            "\n",
            "\n",
            "\n",
            "\n",
            "\n",
            "\n",
            "\n",
            "목차\n",
            "사이드바로 이동\n",
            "숨기기\n",
            "\n",
            "\n",
            "\n",
            "\n",
            "처음 위치\n",
            "\n",
            "\n",
            "\n",
            "\n",
            "\n",
            "1활동\n",
            "\n",
            "\n",
            "\t\t\t\t활동 하위섹션 토글하기\n",
            "\t\t\t\n",
            "\n",
            "\n",
            "\n",
            "\n",
            "1.1데뷔 전\n",
            "\n",
            "\n",
            "\n",
            "\n",
            "\n",
            "\n",
            "\n",
            "1.22022년\n",
            "\n",
            "\n",
            "\n",
            "\n",
            "\n",
            "\n",
            "\n",
            "\n",
            "\n",
            "2구성원\n",
            "\n",
            "\n",
            "\n",
            "\n",
            "\n",
            "\n",
            "\n",
            "3역사\n",
            "\n",
            "\n",
            "\t\t\t\t역사 하위섹션 토글하기\n",
            "\t\t\t\n",
            "\n",
            "\n",
            "\n",
            "\n",
            "3.12019–2021: 결성 및 데뷔 전 활동\n",
            "\n",
            "\n",
            "\n",
            "\n",
            "\n",
            "\n",
            "\n",
            "\n",
            "\n",
            "4음반\n",
            "\n",
            "\n",
            "\t\t\t\t음반 하위섹션 토글하기\n",
            "\t\t\t\n",
            "\n",
            "\n",
            "\n",
            "\n",
            "4.1EP\n",
            "\n",
            "\n",
            "\n",
            "\n",
            "\n",
            "\n",
            "\n",
            "4.2싱글\n",
            "\n",
            "\n",
            "\n",
            "\n",
            "\n",
            "\n",
            "\n",
            "\n",
            "\n",
            "5음반 외 활동\n",
            "\n",
            "\n",
            "\n",
            "\n",
            "\n",
            "\n",
            "\n",
            "6수상 목록\n",
            "\n",
            "\n",
            "\t\t\t\t수상 목록 하위섹션 토글하기\n",
            "\t\t\t\n",
            "\n",
            "\n",
            "\n",
            "\n",
            "6.1가요 프로그램 1위\n",
            "\n",
            "\n",
            "\n",
            "\n",
            "\n",
            "\n",
            "\n",
            "\n",
            "\n",
            "7기타 시상식\n",
            "\n",
            "\n",
            "\n",
            "\n",
            "\n",
            "\n",
            "\n",
            "8각주\n",
            "\n",
            "\n",
            "\n",
            "\n",
            "\n",
            "\n",
            "\n",
            "9외부 링크\n",
            "\n",
            "\n",
            "\n",
            "\n",
            "\n",
            "\n",
            "\n",
            "\n",
            "\n",
            "\n",
            "\n",
            "\n",
            "\t\t\t\t\t\t목차 토글\n",
            "\t\t\t\t\t\n",
            "\n",
            "\n",
            "\n",
            "\n",
            "\n",
            "목차 토글\n",
            "\n",
            "\n",
            "\n",
            "\n",
            "\n",
            "\n",
            "\n",
            "NewJeans\n",
            "\n",
            "\n",
            "\n",
            "\n",
            "20개 언어\n",
            "\n",
            "\n",
            "\n",
            "العربيةБеларускаяEnglishEspañolفارسیSuomiFrançaisՀայերենBahasa Indonesia日本語PolskiPortuguêsРусскийSlovenčinaไทยTürkçeУкраїнськаOʻzbekcha / ўзбекчаTiếng Việt中文\n",
            "링크 편집\n",
            "\n",
            "\n",
            "\n",
            "\n",
            "\n",
            "\n",
            "\n",
            "\n",
            "\n",
            "\n",
            "\n",
            "문서\"\n",
            "\n",
            "\n",
            "CONCISE SUMMARY IN KOREAN:\u001b[0m\n",
            "Prompt after formatting:\n",
            "\u001b[32;1m\u001b[1;3mWrite a concise summary of the following:\n",
            "\n",
            "\n",
            "\"토론\n",
            "\n",
            "\n",
            "\n",
            "\n",
            "\n",
            "\n",
            "\n",
            "한국어\n",
            "\n",
            "\n",
            "\n",
            "\n",
            "\n",
            "\n",
            "\n",
            "\n",
            "\n",
            "\n",
            "\n",
            "\n",
            "\n",
            "\n",
            "읽기\n",
            "\n",
            "편집\n",
            "\n",
            "역사 보기\n",
            "\n",
            "\n",
            "\n",
            "\n",
            "\n",
            "\n",
            "\n",
            "\n",
            "\n",
            "도구\n",
            "\n",
            "\n",
            "\n",
            "\n",
            "\n",
            "도구\n",
            "사이드바로 이동\n",
            "숨기기\n",
            "\n",
            "\n",
            "\n",
            "\t\t동작\n",
            "\t\n",
            "\n",
            "읽기편집역사 보기\n",
            "\n",
            "\n",
            "\n",
            "\n",
            "\t\t일반\n",
            "\t\n",
            "\n",
            "여기를 가리키는 문서가리키는 글의 최근 바뀜파일 올리기특수 문서 목록고유 링크문서 정보이 문서 인용하기위키데이터 항목\n",
            "\n",
            "\n",
            "\n",
            "\n",
            "\t\t인쇄/내보내기\n",
            "\t\n",
            "\n",
            "책 만들기PDF로 다운로드인쇄용 판\n",
            "\n",
            "\n",
            "\n",
            "\n",
            "\t\t다른 프로젝트\n",
            "\t\n",
            "\n",
            "위키미디어 공용\n",
            "\n",
            "\n",
            "\n",
            "\n",
            "\n",
            "\n",
            "\n",
            "\n",
            "\n",
            "\n",
            "\n",
            "\n",
            "\n",
            "\n",
            "\n",
            "\n",
            "\n",
            "\n",
            "\n",
            "\n",
            "위키백과, 우리 모두의 백과사전.\n",
            "\n",
            "\n",
            "\n",
            "\n",
            "  EP에 대해서는 New Jeans (EP) 문서를 참고하십시오.\n",
            "\n",
            "\n",
            "NewJeans뉴진스\n",
            "\n",
            "\n",
            "\n",
            "\n",
            "\n",
            "\n",
            "\n",
            "\n",
            "기본 정보\n",
            "\n",
            "\n",
            "결성 지역\n",
            "\n",
            "대한민국 서울특별시\n",
            "\n",
            "\n",
            "장르\n",
            "\n",
            "K-pop댄스 팝\n",
            "\n",
            "\n",
            "활동 시기\n",
            "\n",
            "2022년 7월 22일 ~\n",
            "\n",
            "\n",
            "레이블\n",
            "\n",
            "하이브\n",
            "\n",
            "\n",
            "소속사\n",
            "\n",
            "어도어\n",
            "\n",
            "\n",
            "웹사이트\n",
            "\n",
            "공식 홈페이지\n",
            "\n",
            "\n",
            "구성원\n",
            "\n",
            "\n",
            "민지하니다니엘해린혜인\n",
            "\n",
            "\n",
            "NewJeans(뉴진스)는 2022년 7월 22일에 데뷔한 대한민국의 5인조 걸 그룹으로, 소속사는 하이브 산하의 레이블인 어도어이다. SM 엔터테인먼트 디렉터 출신으로 하이브에 영입된 민희진이 프로듀서로 나서서 발굴한 걸그룹이다. 2022년 8월 18일 《엠카운트다운》에서 데뷔 3주만에 첫 1위를 차지했다.\n",
            "\n",
            "\n",
            "활동[편집]\n",
            "이 문단은 영어 위키백과의 NewJeans 문서를 번역하여 문서의 내용을 확장할 필요가 있습니다.중요한 번역 안내를 보려면 [펼치기]를 클릭하십시오.\n",
            "신뢰성 있고 확인할 수 있는 출처가 제시되도록 번역하여 주십시오.\n",
            "번역을 완료한 후에는 {{번역된 문서}} 틀을 토론창에 표기하여 저작자를 표시하여 주십시오.\n",
            "문맥상 이해를 돕기 위해 관련 문서를 같이 번역해주시는 것이 좋습니다.\n",
            "번역을 확장할 필요가 있는 내용이 포함된 다른 문서를 보고 싶으시다면 분류:번역 확장 필요 문서를 참고해주세요.\n",
            "데뷔 전[편집]\n",
            "민지와 하니는 방탄소년단의 Permission to Dance 뮤직비디오에 출연하였다.\"\n",
            "\n",
            "\n",
            "CONCISE SUMMARY IN KOREAN:\u001b[0m\n",
            "Prompt after formatting:\n",
            "\u001b[32;1m\u001b[1;3mWrite a concise summary of the following:\n",
            "\n",
            "\n",
            "\"2022년[편집]\n",
            "7월 22일 Attention 뮤직비디오를 공개함으로 데뷔를 했다. 23일 Hype Boy 뮤직비디오를 통해 맴버 5명의 이름을 공개,  8월 1일 음원 공개를 했으며, 8일에 정식 앨범《Newjeans 1st EP 'New Jeans'》를 발매했다.\n",
            "\n",
            "구성원[편집]\n",
            "\n",
            "\n",
            "이름\n",
            "\n",
            "소개\n",
            "\n",
            "\n",
            "민지\n",
            "\n",
            "\n",
            "본명: 김민지(金玟池)\n",
            "생년월일: 2004년 5월 7일(2004-05-07)(18세)\n",
            "학력 : 한림예술고등학교 (졸업)\n",
            "출생지: 대한민국 강원도 춘천시\n",
            "활동기간 : 2022년 7월 22일 ~\n",
            "\n",
            "\n",
            "하니\n",
            "\n",
            "\n",
            "본명: 하니 팜(Hanni Pham), 팜 응옥 헌(范玉欣/Phạm Ngọc Hân)\n",
            "생년월일: 2004년 10월 6일(2004-10-06)(18세)\n",
            "출생지: 오스트레일리아 빅토리아주 멜버른\n",
            "활동기간 : 2022년 7월 22일 ~\n",
            "\n",
            "\n",
            "다니엘\n",
            "\n",
            "\n",
            "본명: 다니엘 마쉬(Danielle Marsh), 모지혜(牟智慧)\n",
            "생년월일: 2005년 4월 11일(2005-04-11)(18세)\n",
            "출생지: 오스트레일리아 뉴사우스웨일스주 뉴캐슬\n",
            "활동기간 : 2022년 7월 22일 ~\n",
            "\n",
            "\n",
            "해린\n",
            "\n",
            "\n",
            "본명: 강해린(姜諧潾)\n",
            "생년월일: 2006년 5월 15일(2006-05-15)(16세)\n",
            "출생지: 대한민국 서울특별시\n",
            "학력: 중학교 졸업학력 검정고시 (합격)\n",
            "활동기간: 2022년 7월 22일 ~\n",
            "\n",
            "\n",
            "혜인\n",
            "\n",
            "\n",
            "본명: 이혜인(李惠仁)\n",
            "생년월일: 2008년 4월 21일(2008-04-21)(15세)\n",
            "출생지: 대한민국 인천광역시 미추홀구\n",
            "학력: 한국국제크리스천스쿨 (중퇴)\n",
            "활동기간: 2022년 7월 22일 ~\"\n",
            "\n",
            "\n",
            "CONCISE SUMMARY IN KOREAN:\u001b[0m\n",
            "\n",
            "\n",
            "\u001b[1m> Entering new StuffDocumentsChain chain...\u001b[0m\n",
            "\n",
            "\n",
            "\u001b[1m> Entering new LLMChain chain...\u001b[0m\n",
            "Prompt after formatting:\n",
            "\u001b[32;1m\u001b[1;3mWrite a concise summary of the following:\n",
            "\n",
            "\n",
            "\"NewJeans은 2019년 결성된 대한민국의 5인조 록밴드로, EP와 싱글을 발표하며 활동하고 있다. 가요 프로그램에서 1위를 수상한 적이 있으며, 현재까지 수상 목록을 가지고 있다.\n",
            "\n",
            "NewJeans는 2022년 7월 22일에 데뷔한 대한민국의 5인조 걸 그룹으로, 하이브 산하의 레이블인 어도어에서 활동하고 있다. 프로듀서로 나서서 발굴한 걸그룹으로, 2022년 8월 18일 《엠카운트다운》에서 데뷔 3주만에 첫 1위를 차지하였다. 민지와 하니는 방탄소년단의 Permission to Dance 뮤직비디오에 출연하였다.\n",
            "\n",
            "2022년 7월 22일, Attention 뮤직비디오를 공개해 데뷔한 Newjeans는 멤버 다섯 명으로 이루어져 있다. 민지, 하니, 다니엘, 해린, 혜인으로 구성된 그들은 8월 8일, 정식 앨범 'New Jeans'를 발매했다.\"\n",
            "\n",
            "\n",
            "CONCISE SUMMARY IN KOREAN:\u001b[0m\n",
            "\n",
            "\u001b[1m> Finished chain.\u001b[0m\n",
            "\n",
            "\u001b[1m> Finished chain.\u001b[0m\n",
            "\n",
            "\u001b[1m> Finished chain.\u001b[0m\n",
            "Tokens Used: 3298\n",
            "\tPrompt Tokens: 2670\n",
            "\tCompletion Tokens: 628\n",
            "Successful Requests: 2\n",
            "Total Cost (USD): $0.006596\n"
          ]
        },
        {
          "output_type": "execute_result",
          "data": {
            "text/plain": [
              "\"NewJeans은 대한민국의 5인조 록밴드로, 2019년 결성되어 EP와 싱글을 발표하며 활동하고 있으며 가요 프로그램에서 1위를 수상한 적이 있고 현재까지 수상 목록을 가지고 있다. 또한, 2022년 7월 22일에 데뷔한 대한민국의 5인조 걸 그룹으로, 어도어 레이블에서 활동하며, 2022년 8월 18일에는 엠카운트다운에서 데뷔 3주만에 첫 1위를 차지했다. 민지와 하니는 방탄소년단의 Permission to Dance 뮤직비디오에 출연하였다. 2022년 8월 8일에는 정식 앨범 'New Jeans'를 발매했다.\""
            ],
            "application/vnd.google.colaboratory.intrinsic+json": {
              "type": "string"
            }
          },
          "metadata": {},
          "execution_count": 13
        }
      ]
    },
    {
      "cell_type": "code",
      "source": [
        "#@title 3. Python Object와 친해지기\n",
        "\n",
        "chain\n",
        "# str(chain)\n",
        "# chain.__str__()\n",
        "# chain.__repr__()"
      ],
      "metadata": {
        "colab": {
          "base_uri": "https://localhost:8080/"
        },
        "id": "w19pNKDLKEzR",
        "outputId": "32e84b07-6fa2-4719-8370-509fc567112a"
      },
      "execution_count": null,
      "outputs": [
        {
          "output_type": "execute_result",
          "data": {
            "text/plain": [
              "MapReduceDocumentsChain(memory=None, callback_manager=<langchain.callbacks.shared.SharedCallbackManager object at 0x7fef9ebd7e20>, verbose=True, input_key='input_documents', output_key='output_text', llm_chain=LLMChain(memory=None, callback_manager=<langchain.callbacks.shared.SharedCallbackManager object at 0x7fef9ebd7e20>, verbose=True, prompt=PromptTemplate(input_variables=['text'], output_parser=None, partial_variables={}, template='Write a concise summary of the following:\\n\\n\\n\"{text}\"\\n\\n\\nCONCISE SUMMARY IN KOREAN:', template_format='f-string', validate_template=True), llm=ChatOpenAI(verbose=False, callback_manager=<langchain.callbacks.shared.SharedCallbackManager object at 0x7fef9ebd7e20>, client=<class 'openai.api_resources.chat_completion.ChatCompletion'>, model_name='gpt-3.5-turbo', temperature=0.7, model_kwargs={}, openai_api_key=None, openai_organization=None, request_timeout=60, max_retries=6, streaming=False, n=1, max_tokens=None), output_key='text'), combine_document_chain=StuffDocumentsChain(memory=None, callback_manager=<langchain.callbacks.shared.SharedCallbackManager object at 0x7fef9ebd7e20>, verbose=True, input_key='input_documents', output_key='output_text', llm_chain=LLMChain(memory=None, callback_manager=<langchain.callbacks.shared.SharedCallbackManager object at 0x7fef9ebd7e20>, verbose=True, prompt=PromptTemplate(input_variables=['text'], output_parser=None, partial_variables={}, template='Write a concise summary of the following:\\n\\n\\n\"{text}\"\\n\\n\\nCONCISE SUMMARY IN KOREAN:', template_format='f-string', validate_template=True), llm=ChatOpenAI(verbose=False, callback_manager=<langchain.callbacks.shared.SharedCallbackManager object at 0x7fef9ebd7e20>, client=<class 'openai.api_resources.chat_completion.ChatCompletion'>, model_name='gpt-3.5-turbo', temperature=0.7, model_kwargs={}, openai_api_key=None, openai_organization=None, request_timeout=60, max_retries=6, streaming=False, n=1, max_tokens=None), output_key='text'), document_prompt=PromptTemplate(input_variables=['page_content'], output_parser=None, partial_variables={}, template='{page_content}', template_format='f-string', validate_template=True), document_variable_name='text'), collapse_document_chain=None, document_variable_name='text', return_intermediate_steps=False)"
            ]
          },
          "metadata": {},
          "execution_count": 17
        }
      ]
    },
    {
      "cell_type": "code",
      "source": [
        "dir(chain)"
      ],
      "metadata": {
        "id": "XO8BmUyjFBPs"
      },
      "execution_count": null,
      "outputs": []
    },
    {
      "cell_type": "code",
      "source": [
        "chain.__repr_args__()"
      ],
      "metadata": {
        "colab": {
          "base_uri": "https://localhost:8080/"
        },
        "id": "D5Ev7XhKHAYQ",
        "outputId": "4f9f6413-ff93-4b51-b0a4-cb23ff28bd08"
      },
      "execution_count": null,
      "outputs": [
        {
          "output_type": "execute_result",
          "data": {
            "text/plain": [
              "[('memory', None),\n",
              " ('callback_manager',\n",
              "  <langchain.callbacks.shared.SharedCallbackManager at 0x7fef9ebd7e20>),\n",
              " ('verbose', True),\n",
              " ('input_key', 'input_documents'),\n",
              " ('output_key', 'output_text'),\n",
              " ('llm_chain',\n",
              "  LLMChain(memory=None, callback_manager=<langchain.callbacks.shared.SharedCallbackManager object at 0x7fef9ebd7e20>, verbose=True, prompt=PromptTemplate(input_variables=['text'], output_parser=None, partial_variables={}, template='Write a concise summary of the following:\\n\\n\\n\"{text}\"\\n\\n\\nCONCISE SUMMARY IN KOREAN:', template_format='f-string', validate_template=True), llm=ChatOpenAI(verbose=False, callback_manager=<langchain.callbacks.shared.SharedCallbackManager object at 0x7fef9ebd7e20>, client=<class 'openai.api_resources.chat_completion.ChatCompletion'>, model_name='gpt-3.5-turbo', temperature=0.7, model_kwargs={}, openai_api_key=None, openai_organization=None, request_timeout=60, max_retries=6, streaming=False, n=1, max_tokens=None), output_key='text')),\n",
              " ('combine_document_chain',\n",
              "  StuffDocumentsChain(memory=None, callback_manager=<langchain.callbacks.shared.SharedCallbackManager object at 0x7fef9ebd7e20>, verbose=True, input_key='input_documents', output_key='output_text', llm_chain=LLMChain(memory=None, callback_manager=<langchain.callbacks.shared.SharedCallbackManager object at 0x7fef9ebd7e20>, verbose=True, prompt=PromptTemplate(input_variables=['text'], output_parser=None, partial_variables={}, template='Write a concise summary of the following:\\n\\n\\n\"{text}\"\\n\\n\\nCONCISE SUMMARY IN KOREAN:', template_format='f-string', validate_template=True), llm=ChatOpenAI(verbose=False, callback_manager=<langchain.callbacks.shared.SharedCallbackManager object at 0x7fef9ebd7e20>, client=<class 'openai.api_resources.chat_completion.ChatCompletion'>, model_name='gpt-3.5-turbo', temperature=0.7, model_kwargs={}, openai_api_key=None, openai_organization=None, request_timeout=60, max_retries=6, streaming=False, n=1, max_tokens=None), output_key='text'), document_prompt=PromptTemplate(input_variables=['page_content'], output_parser=None, partial_variables={}, template='{page_content}', template_format='f-string', validate_template=True), document_variable_name='text')),\n",
              " ('collapse_document_chain', None),\n",
              " ('document_variable_name', 'text'),\n",
              " ('return_intermediate_steps', False)]"
            ]
          },
          "metadata": {},
          "execution_count": 18
        }
      ]
    },
    {
      "cell_type": "code",
      "source": [
        "chain.llm_chain.prompt.__repr_args__()"
      ],
      "metadata": {
        "colab": {
          "base_uri": "https://localhost:8080/"
        },
        "id": "HZpD6dSrHtLb",
        "outputId": "48db108a-22dc-45a0-c1ee-d88bacab23da"
      },
      "execution_count": null,
      "outputs": [
        {
          "output_type": "execute_result",
          "data": {
            "text/plain": [
              "[('input_variables', ['text']),\n",
              " ('output_parser', None),\n",
              " ('partial_variables', {}),\n",
              " ('template',\n",
              "  'Write a concise summary of the following:\\n\\n\\n\"{text}\"\\n\\n\\nCONCISE SUMMARY IN KOREAN:'),\n",
              " ('template_format', 'f-string'),\n",
              " ('validate_template', True)]"
            ]
          },
          "metadata": {},
          "execution_count": 20
        }
      ]
    },
    {
      "cell_type": "code",
      "source": [
        "#@title 4. PromptLayer 서비스\n",
        "\n",
        "from langchain.chat_models import PromptLayerChatOpenAI\n",
        "# chat = ChatOpenAI()\n",
        "chat = PromptLayerChatOpenAI(pl_tags=[\"langchain_230424\"], temperature=0.9)\n",
        "\n",
        "chat([HumanMessage(content=\"1980년대 메탈 음악 10곡 추천해줘.\")])"
      ],
      "metadata": {
        "colab": {
          "base_uri": "https://localhost:8080/"
        },
        "id": "WWLSL1qIsvrF",
        "outputId": "07dfb6cc-0615-4155-c426-176f721f9100"
      },
      "execution_count": null,
      "outputs": [
        {
          "output_type": "execute_result",
          "data": {
            "text/plain": [
              "AIMessage(content='1. \"Back in Black\" - AC/DC\\n2. \"Master of Puppets\" - Metallica\\n3. \"Paradise City\" - Guns N\\' Roses\\n4. \"Crazy Train\" - Ozzy Osbourne\\n5. \"The Trooper\" - Iron Maiden\\n6. \"Breaking the Law\" - Judas Priest\\n7. \"Holy Diver\" - Dio\\n8. \"Ace of Spades\" - Motörhead\\n9. \"Eruption/You Really Got Me\" - Van Halen\\n10. \"Raining Blood\" - Slayer', additional_kwargs={})"
            ]
          },
          "metadata": {},
          "execution_count": 21
        }
      ]
    },
    {
      "cell_type": "code",
      "source": [],
      "metadata": {
        "id": "TXLQW805CJOO"
      },
      "execution_count": null,
      "outputs": []
    }
  ]
}